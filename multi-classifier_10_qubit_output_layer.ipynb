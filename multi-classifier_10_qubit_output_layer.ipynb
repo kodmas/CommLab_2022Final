{
 "cells": [
  {
   "cell_type": "code",
   "execution_count": 1,
   "metadata": {
    "scrolled": true
   },
   "outputs": [
    {
     "name": "stdout",
     "output_type": "stream",
     "text": [
      "Requirement already satisfied: torch in c:\\users\\user\\anaconda3\\lib\\site-packages (1.13.0)\n",
      "Requirement already satisfied: typing-extensions in c:\\users\\user\\anaconda3\\lib\\site-packages (from torch) (4.4.0)\n",
      "Note: you may need to restart the kernel to use updated packages.\n"
     ]
    }
   ],
   "source": [
    "pip install torch"
   ]
  },
  {
   "cell_type": "code",
   "execution_count": 2,
   "metadata": {},
   "outputs": [
    {
     "name": "stdout",
     "output_type": "stream",
     "text": [
      "Requirement already satisfied: torchvision in c:\\users\\user\\anaconda3\\lib\\site-packages (0.14.0)\n",
      "Requirement already satisfied: torch==1.13.0 in c:\\users\\user\\anaconda3\\lib\\site-packages (from torchvision) (1.13.0)\n",
      "Requirement already satisfied: pillow!=8.3.*,>=5.3.0 in c:\\users\\user\\anaconda3\\lib\\site-packages (from torchvision) (6.1.0)\n",
      "Requirement already satisfied: numpy in c:\\users\\user\\anaconda3\\lib\\site-packages (from torchvision) (1.21.6)\n",
      "Requirement already satisfied: typing-extensions in c:\\users\\user\\anaconda3\\lib\\site-packages (from torchvision) (4.4.0)\n",
      "Requirement already satisfied: requests in c:\\users\\user\\anaconda3\\lib\\site-packages (from torchvision) (2.22.0)\n",
      "Requirement already satisfied: chardet<3.1.0,>=3.0.2 in c:\\users\\user\\anaconda3\\lib\\site-packages (from requests->torchvision) (3.0.4)\n",
      "Requirement already satisfied: certifi>=2017.4.17 in c:\\users\\user\\anaconda3\\lib\\site-packages (from requests->torchvision) (2019.6.16)\n",
      "Requirement already satisfied: idna<2.9,>=2.5 in c:\\users\\user\\anaconda3\\lib\\site-packages (from requests->torchvision) (2.8)\n",
      "Requirement already satisfied: urllib3!=1.25.0,!=1.25.1,<1.26,>=1.21.1 in c:\\users\\user\\anaconda3\\lib\\site-packages (from requests->torchvision) (1.24.2)\n",
      "Note: you may need to restart the kernel to use updated packages.\n"
     ]
    }
   ],
   "source": [
    "pip install torchvision"
   ]
  },
  {
   "cell_type": "code",
   "execution_count": 3,
   "metadata": {},
   "outputs": [
    {
     "name": "stdout",
     "output_type": "stream",
     "text": [
      "Requirement already satisfied: qiskit in c:\\users\\user\\anaconda3\\lib\\site-packages (0.39.4)\n",
      "Requirement already satisfied: qiskit-terra==0.22.3 in c:\\users\\user\\anaconda3\\lib\\site-packages (from qiskit) (0.22.3)\n",
      "Requirement already satisfied: qiskit-ibmq-provider==0.19.2 in c:\\users\\user\\anaconda3\\lib\\site-packages (from qiskit) (0.19.2)\n",
      "Requirement already satisfied: qiskit-aer==0.11.2 in c:\\users\\user\\anaconda3\\lib\\site-packages (from qiskit) (0.11.2)\n",
      "Requirement already satisfied: tweedledum<2.0,>=1.1; python_version < \"3.11\" and (platform_machine != \"arm64\" or sys_platform != \"darwin\") in c:\\users\\user\\anaconda3\\lib\\site-packages (from qiskit-terra==0.22.3->qiskit) (1.1.1)\n",
      "Requirement already satisfied: numpy>=1.17 in c:\\users\\user\\anaconda3\\lib\\site-packages (from qiskit-terra==0.22.3->qiskit) (1.21.6)\n",
      "Requirement already satisfied: stevedore>=3.0.0 in c:\\users\\user\\anaconda3\\lib\\site-packages (from qiskit-terra==0.22.3->qiskit) (3.5.2)\n",
      "Requirement already satisfied: importlib-metadata<5.0; python_version < \"3.8\" in c:\\users\\user\\anaconda3\\lib\\site-packages (from qiskit-terra==0.22.3->qiskit) (0.17)\n",
      "Requirement already satisfied: retworkx>=0.11.0 in c:\\users\\user\\anaconda3\\lib\\site-packages (from qiskit-terra==0.22.3->qiskit) (0.12.1)\n",
      "Requirement already satisfied: psutil>=5 in c:\\users\\user\\anaconda3\\lib\\site-packages (from qiskit-terra==0.22.3->qiskit) (5.6.3)\n",
      "Requirement already satisfied: sympy>=1.3 in c:\\users\\user\\anaconda3\\lib\\site-packages (from qiskit-terra==0.22.3->qiskit) (1.4)\n",
      "Requirement already satisfied: dill>=0.3 in c:\\users\\user\\anaconda3\\lib\\site-packages (from qiskit-terra==0.22.3->qiskit) (0.3.6)\n",
      "Requirement already satisfied: python-dateutil>=2.8.0 in c:\\users\\user\\anaconda3\\lib\\site-packages (from qiskit-terra==0.22.3->qiskit) (2.8.0)\n",
      "Requirement already satisfied: shared-memory38; python_version < \"3.8\" in c:\\users\\user\\anaconda3\\lib\\site-packages (from qiskit-terra==0.22.3->qiskit) (0.1.2)\n",
      "Requirement already satisfied: ply>=3.10 in c:\\users\\user\\anaconda3\\lib\\site-packages (from qiskit-terra==0.22.3->qiskit) (3.11)\n",
      "Requirement already satisfied: scipy>=1.5 in c:\\users\\user\\anaconda3\\lib\\site-packages (from qiskit-terra==0.22.3->qiskit) (1.7.3)\n",
      "Requirement already satisfied: typing-extensions; python_version < \"3.8\" in c:\\users\\user\\anaconda3\\lib\\site-packages (from qiskit-terra==0.22.3->qiskit) (4.4.0)\n",
      "Requirement already satisfied: urllib3>=1.21.1 in c:\\users\\user\\anaconda3\\lib\\site-packages (from qiskit-ibmq-provider==0.19.2->qiskit) (1.24.2)\n",
      "Requirement already satisfied: websocket-client>=1.0.1 in c:\\users\\user\\anaconda3\\lib\\site-packages (from qiskit-ibmq-provider==0.19.2->qiskit) (1.4.2)\n",
      "Requirement already satisfied: requests>=2.19 in c:\\users\\user\\anaconda3\\lib\\site-packages (from qiskit-ibmq-provider==0.19.2->qiskit) (2.22.0)\n",
      "Requirement already satisfied: requests-ntlm>=1.1.0 in c:\\users\\user\\anaconda3\\lib\\site-packages (from qiskit-ibmq-provider==0.19.2->qiskit) (1.1.0)\n",
      "Requirement already satisfied: websockets>=10.0; python_version >= \"3.7\" in c:\\users\\user\\anaconda3\\lib\\site-packages (from qiskit-ibmq-provider==0.19.2->qiskit) (10.4)\n",
      "Requirement already satisfied: pbr!=2.1.0,>=2.0.0 in c:\\users\\user\\anaconda3\\lib\\site-packages (from stevedore>=3.0.0->qiskit-terra==0.22.3->qiskit) (5.11.0)\n",
      "Requirement already satisfied: zipp>=0.5 in c:\\users\\user\\anaconda3\\lib\\site-packages (from importlib-metadata<5.0; python_version < \"3.8\"->qiskit-terra==0.22.3->qiskit) (0.5.1)\n",
      "Requirement already satisfied: rustworkx==0.12.1 in c:\\users\\user\\anaconda3\\lib\\site-packages (from retworkx>=0.11.0->qiskit-terra==0.22.3->qiskit) (0.12.1)\n",
      "Requirement already satisfied: mpmath>=0.19 in c:\\users\\user\\anaconda3\\lib\\site-packages (from sympy>=1.3->qiskit-terra==0.22.3->qiskit) (1.1.0)\n",
      "Requirement already satisfied: six>=1.5 in c:\\users\\user\\anaconda3\\lib\\site-packages (from python-dateutil>=2.8.0->qiskit-terra==0.22.3->qiskit) (1.12.0)\n",
      "Requirement already satisfied: chardet<3.1.0,>=3.0.2 in c:\\users\\user\\anaconda3\\lib\\site-packages (from requests>=2.19->qiskit-ibmq-provider==0.19.2->qiskit) (3.0.4)\n",
      "Requirement already satisfied: idna<2.9,>=2.5 in c:\\users\\user\\anaconda3\\lib\\site-packages (from requests>=2.19->qiskit-ibmq-provider==0.19.2->qiskit) (2.8)\n",
      "Requirement already satisfied: certifi>=2017.4.17 in c:\\users\\user\\anaconda3\\lib\\site-packages (from requests>=2.19->qiskit-ibmq-provider==0.19.2->qiskit) (2019.6.16)\n",
      "Requirement already satisfied: ntlm-auth>=1.0.2 in c:\\users\\user\\anaconda3\\lib\\site-packages (from requests-ntlm>=1.1.0->qiskit-ibmq-provider==0.19.2->qiskit) (1.5.0)\n",
      "Requirement already satisfied: cryptography>=1.3 in c:\\users\\user\\anaconda3\\lib\\site-packages (from requests-ntlm>=1.1.0->qiskit-ibmq-provider==0.19.2->qiskit) (2.7)\n",
      "Requirement already satisfied: asn1crypto>=0.21.0 in c:\\users\\user\\anaconda3\\lib\\site-packages (from cryptography>=1.3->requests-ntlm>=1.1.0->qiskit-ibmq-provider==0.19.2->qiskit) (0.24.0)\n",
      "Requirement already satisfied: cffi!=1.11.3,>=1.8 in c:\\users\\user\\anaconda3\\lib\\site-packages (from cryptography>=1.3->requests-ntlm>=1.1.0->qiskit-ibmq-provider==0.19.2->qiskit) (1.12.3)\n",
      "Requirement already satisfied: pycparser in c:\\users\\user\\anaconda3\\lib\\site-packages (from cffi!=1.11.3,>=1.8->cryptography>=1.3->requests-ntlm>=1.1.0->qiskit-ibmq-provider==0.19.2->qiskit) (2.19)\n",
      "Note: you may need to restart the kernel to use updated packages.\n"
     ]
    }
   ],
   "source": [
    "pip install qiskit"
   ]
  },
  {
   "cell_type": "code",
   "execution_count": 4,
   "metadata": {},
   "outputs": [],
   "source": [
    "import numpy as np\n",
    "import matplotlib.pyplot as plt\n",
    "\n",
    "import torch\n",
    "from torch.autograd import Function\n",
    "from torchvision import datasets, transforms\n",
    "import torch.optim as optim\n",
    "import torch.nn as nn\n",
    "import torch.nn.functional as F\n",
    "\n",
    "import qiskit\n",
    "from qiskit import transpile, assemble\n",
    "from qiskit.visualization import *"
   ]
  },
  {
   "cell_type": "code",
   "execution_count": 5,
   "metadata": {},
   "outputs": [
    {
     "data": {
      "text/plain": [
       "tensor([0.2000, 0.8000])"
      ]
     },
     "execution_count": 5,
     "metadata": {},
     "output_type": "execute_result"
    }
   ],
   "source": [
    "torch.cat((torch.Tensor([0.2]), 1 - torch.Tensor([0.2])), -1)"
   ]
  },
  {
   "cell_type": "code",
   "execution_count": 6,
   "metadata": {},
   "outputs": [
    {
     "data": {
      "text/plain": [
       "tensor([[0.2000, 0.8000]])"
      ]
     },
     "execution_count": 6,
     "metadata": {},
     "output_type": "execute_result"
    }
   ],
   "source": [
    "torch.cat((torch.Tensor([[0.2]]), 1 - torch.Tensor([[0.2]])), -1)"
   ]
  },
  {
   "cell_type": "code",
   "execution_count": 87,
   "metadata": {},
   "outputs": [],
   "source": [
    "class QuantumCircuit:\n",
    "    \"\"\" \n",
    "    This class provides a simple interface for interaction \n",
    "    with the quantum circuit \n",
    "    \"\"\"\n",
    "    \n",
    "    def __init__(self, n_qubits, backend, shots):\n",
    "        # --- Circuit definition ---\n",
    "        self._circuit = qiskit.QuantumCircuit(n_qubits)\n",
    "        self.n_qubits = n_qubits\n",
    "        all_qubits = [i for i in range(n_qubits)]\n",
    "        \n",
    "        self._circuit.h(all_qubits)\n",
    "        self._circuit.barrier()\n",
    "        \n",
    "        self.theta = []\n",
    "        for i in range(n_qubits):\n",
    "            self.theta.append(qiskit.circuit.Parameter('theta' + str(i)))\n",
    "            self._circuit.ry(self.theta[-1], i)\n",
    "        \n",
    "        self._circuit.measure_all()\n",
    "        # ---------------------------\n",
    "        \n",
    "        self.backend = backend\n",
    "        self.shots = shots\n",
    "\n",
    "    def run(self, thetas):\n",
    "        #print('in the run')\n",
    "        #print('theta = ', thetas)\n",
    "        t_qc = transpile(self._circuit,\n",
    "                         self.backend)\n",
    "        dict_for_use = {}\n",
    "        for i in range(len(self.theta)):\n",
    "            dict_for_use[self.theta[i]] = thetas[i]\n",
    "        qobj = assemble(t_qc,\n",
    "                        shots=self.shots,\n",
    "                        parameter_binds = [dict_for_use])\n",
    "        \n",
    "        job = self.backend.run(qobj)\n",
    "        result = job.result().get_counts()\n",
    "        \n",
    "        #print(result)\n",
    "        collection = [0] * self.n_qubits\n",
    "        #It means the probability of '1' for each qubit\n",
    "        for str_ in list(result.keys()):\n",
    "            for j in range(len(str_)):\n",
    "                if int(str_[len(str_) - 1 - j]):\n",
    "                    collection[j] += 1/self.shots * result[str_]\n",
    "        \n",
    "        #print('collection = ', collection)\n",
    "        \n",
    "        return collection"
   ]
  },
  {
   "cell_type": "code",
   "execution_count": 8,
   "metadata": {},
   "outputs": [
    {
     "data": {
      "text/plain": [
       "False"
      ]
     },
     "execution_count": 8,
     "metadata": {},
     "output_type": "execute_result"
    }
   ],
   "source": [
    "bool(int('0'))"
   ]
  },
  {
   "cell_type": "code",
   "execution_count": 9,
   "metadata": {},
   "outputs": [
    {
     "data": {
      "text/plain": [
       "6.0"
      ]
     },
     "execution_count": 9,
     "metadata": {},
     "output_type": "execute_result"
    }
   ],
   "source": [
    "a = torch.Tensor([1, 2, 3])\n",
    "np.sum(np.array(a))"
   ]
  },
  {
   "cell_type": "code",
   "execution_count": 77,
   "metadata": {},
   "outputs": [
    {
     "data": {
      "text/html": [
       "<pre style=\"word-wrap: normal;white-space: pre;background: #fff0;line-height: 1.1;font-family: &quot;Courier New&quot;,Courier,monospace\">        ┌───┐ ░ ┌────────────┐ ░ ┌─┐      \n",
       "   q_0: ┤ H ├─░─┤ Ry(theta0) ├─░─┤M├──────\n",
       "        ├───┤ ░ ├────────────┤ ░ └╥┘┌─┐   \n",
       "   q_1: ┤ H ├─░─┤ Ry(theta1) ├─░──╫─┤M├───\n",
       "        ├───┤ ░ ├────────────┤ ░  ║ └╥┘┌─┐\n",
       "   q_2: ┤ H ├─░─┤ Ry(theta2) ├─░──╫──╫─┤M├\n",
       "        └───┘ ░ └────────────┘ ░  ║  ║ └╥┘\n",
       "meas: 3/══════════════════════════╩══╩══╩═\n",
       "                                  0  1  2 </pre>"
      ],
      "text/plain": [
       "        ┌───┐ ░ ┌────────────┐ ░ ┌─┐      \n",
       "   q_0: ┤ H ├─░─┤ Ry(theta0) ├─░─┤M├──────\n",
       "        ├───┤ ░ ├────────────┤ ░ └╥┘┌─┐   \n",
       "   q_1: ┤ H ├─░─┤ Ry(theta1) ├─░──╫─┤M├───\n",
       "        ├───┤ ░ ├────────────┤ ░  ║ └╥┘┌─┐\n",
       "   q_2: ┤ H ├─░─┤ Ry(theta2) ├─░──╫──╫─┤M├\n",
       "        └───┘ ░ └────────────┘ ░  ║  ║ └╥┘\n",
       "meas: 3/══════════════════════════╩══╩══╩═\n",
       "                                  0  1  2 "
      ]
     },
     "execution_count": 77,
     "metadata": {},
     "output_type": "execute_result"
    }
   ],
   "source": [
    "simulator = qiskit.Aer.get_backend('aer_simulator')\n",
    "\n",
    "circuit = QuantumCircuit(3, simulator, 1000)\n",
    "#print('Expected value for rotation pi {}'.format(circuit.run([np.pi])[0]))\n",
    "circuit._circuit.draw()"
   ]
  },
  {
   "cell_type": "code",
   "execution_count": 81,
   "metadata": {},
   "outputs": [
    {
     "name": "stdout",
     "output_type": "stream",
     "text": [
      "{'100': 101, '111': 120, '110': 126, '000': 120, '101': 128, '011': 130, '010': 130, '001': 145}\n"
     ]
    },
    {
     "data": {
      "text/plain": [
       "[0.523, 0.506, 0.475]"
      ]
     },
     "execution_count": 81,
     "metadata": {},
     "output_type": "execute_result"
    }
   ],
   "source": [
    "circuit.run([0, 0, 0])"
   ]
  },
  {
   "cell_type": "code",
   "execution_count": 11,
   "metadata": {},
   "outputs": [
    {
     "data": {
      "text/plain": [
       "tensor([[1, 2]])"
      ]
     },
     "execution_count": 11,
     "metadata": {},
     "output_type": "execute_result"
    }
   ],
   "source": [
    "torch.tensor([[1, 2]])"
   ]
  },
  {
   "cell_type": "code",
   "execution_count": 104,
   "metadata": {},
   "outputs": [],
   "source": [
    "class HybridFunction(Function):\n",
    "    \"\"\" Hybrid quantum - classical function definition \"\"\"\n",
    "    \n",
    "    @staticmethod\n",
    "    def forward(ctx, input, quantum_circuit, shift):\n",
    "        \"\"\" Forward pass computation \"\"\"\n",
    "        ctx.shift = shift\n",
    "        ctx.quantum_circuit = quantum_circuit\n",
    "        \n",
    "        #print('input[0].tolist() = ', input[0].tolist())\n",
    "        expectation_z = ctx.quantum_circuit.run(input[0].tolist())\n",
    "        #print(expectation_z)\n",
    "        #here\n",
    "        result = torch.tensor([expectation_z])\n",
    "        ctx.save_for_backward(input, result)\n",
    "\n",
    "        return result\n",
    "        \n",
    "    @staticmethod\n",
    "    def backward(ctx, grad_output):\n",
    "        \"\"\" Backward pass computation \"\"\"\n",
    "        input, expectation_z = ctx.saved_tensors\n",
    "        \n",
    "        \n",
    "        input_list = np.array(input.tolist())\n",
    "        #print('input_list =', input_list)\n",
    "        shift_right = input_list + np.ones(input_list.shape) * ctx.shift\n",
    "        shift_left = input_list - np.ones(input_list.shape) * ctx.shift\n",
    "        \n",
    "        #print('shift_right =', shift_right)\n",
    "        #print('shift_left =', shift_left)\n",
    "        #gradients = []\n",
    "        #print('grad_output.float() = ', grad_output.float())\n",
    "        \n",
    "        for i in range(len(input_list)):\n",
    "            expectation_right = ctx.quantum_circuit.run(shift_right[i])\n",
    "            expectation_left  = ctx.quantum_circuit.run(shift_left[i])\n",
    "            \n",
    "            gradient = 0.5 * (torch.tensor([expectation_right]) - torch.tensor([expectation_left]))\n",
    "            #print('gradient = ', gradient)\n",
    "            gradients = gradient.numpy()\n",
    "            #gradients.append(gradient)\n",
    "        #print('gradients = ', gradients)\n",
    "            \n",
    "        #gradients = np.array([gradients]).T\n",
    "        #print('grad_output', grad_output.float())\n",
    "        #print('gradients', torch.tensor(gradients).float())\n",
    "        #print('multiply', torch.tensor(gradients).float() * grad_output.float())\n",
    "        return torch.tensor(gradients).float() * grad_output.float(), None, None\n",
    "\n",
    "class Hybrid(nn.Module):\n",
    "    \"\"\" Hybrid quantum - classical layer definition \"\"\"\n",
    "    \n",
    "    def __init__(self, num, backend, shots, shift):\n",
    "        super(Hybrid, self).__init__()\n",
    "        self.quantum_circuit = QuantumCircuit(num, backend, shots)\n",
    "        self.shift = shift\n",
    "        \n",
    "    def forward(self, input):\n",
    "        return HybridFunction.apply(input, self.quantum_circuit, self.shift)"
   ]
  },
  {
   "cell_type": "code",
   "execution_count": 13,
   "metadata": {},
   "outputs": [
    {
     "data": {
      "text/plain": [
       "array([[0.495],\n",
       "       [0.2  ]], dtype=float32)"
      ]
     },
     "execution_count": 13,
     "metadata": {},
     "output_type": "execute_result"
    }
   ],
   "source": [
    "torch.Tensor([[0.4950, 0.2]]).numpy().T"
   ]
  },
  {
   "cell_type": "code",
   "execution_count": 14,
   "metadata": {},
   "outputs": [
    {
     "data": {
      "text/plain": [
       "array([[[[0.495]]],\n",
       "\n",
       "\n",
       "       [[[0.2  ]]]], dtype=float32)"
      ]
     },
     "execution_count": 14,
     "metadata": {},
     "output_type": "execute_result"
    }
   ],
   "source": [
    "np.array([[torch.Tensor([[0.4950, 0.2]]).numpy() ]]).T"
   ]
  },
  {
   "cell_type": "code",
   "execution_count": 15,
   "metadata": {
    "scrolled": true
   },
   "outputs": [
    {
     "name": "stderr",
     "output_type": "stream",
     "text": [
      "C:\\Users\\user\\Anaconda3\\lib\\site-packages\\ipykernel_launcher.py:1: FutureWarning: The input object of type 'Tensor' is an array-like implementing one of the corresponding protocols (`__array__`, `__array_interface__` or `__array_struct__`); but not a sequence (or 0-D). In the future, this object will be coerced as if it was first converted using `np.array(obj)`. To retain the old behaviour, you have to either modify the type 'Tensor', or assign to an empty array created with `np.empty(correct_shape, dtype=object)`.\n",
      "  \"\"\"Entry point for launching an IPython kernel.\n"
     ]
    },
    {
     "data": {
      "text/plain": [
       "array([[0.495]], dtype=float32)"
      ]
     },
     "execution_count": 15,
     "metadata": {},
     "output_type": "execute_result"
    }
   ],
   "source": [
    "np.array([[torch.Tensor([[0.4950]])]]).T"
   ]
  },
  {
   "cell_type": "code",
   "execution_count": 16,
   "metadata": {
    "scrolled": true
   },
   "outputs": [
    {
     "name": "stdout",
     "output_type": "stream",
     "text": [
      "tensor([5., 3., 2., 4., 1.])\n"
     ]
    },
    {
     "data": {
      "text/plain": [
       "(array([1, 2, 4], dtype=int64),)"
      ]
     },
     "execution_count": 16,
     "metadata": {},
     "output_type": "execute_result"
    }
   ],
   "source": [
    "print(torch.Tensor([5, 3, 2, 4, 1]))\n",
    "np.where(torch.Tensor([5, 3, 2, 4, 1]) <= 3)"
   ]
  },
  {
   "cell_type": "code",
   "execution_count": 110,
   "metadata": {},
   "outputs": [],
   "source": [
    "# Concentrating on the first 100 samples\n",
    "n_samples = 100\n",
    "\n",
    "X_train = datasets.MNIST(root='./data', train=True, download=True,\n",
    "                         transform=transforms.Compose([transforms.ToTensor()]))\n",
    "\n",
    "# Leaving only labels 0 and 1 \n",
    "idx = np.append(np.where(X_train.targets == 0)[0][:n_samples], \n",
    "                np.where(X_train.targets == 1)[0][:n_samples])\n",
    "\n",
    "for i in range(2, 10):\n",
    "    idx = np.append(idx, np.where(X_train.targets == i)[0][:n_samples])\n",
    "    \n",
    "X_train.data = X_train.data[idx]\n",
    "X_train.targets = X_train.targets[idx]\n",
    "train_loader = torch.utils.data.DataLoader(X_train, batch_size=1, shuffle=True)"
   ]
  },
  {
   "cell_type": "code",
   "execution_count": 112,
   "metadata": {},
   "outputs": [
    {
     "data": {
      "image/png": "[encoded data removed]",
      "text/plain": [
       "<Figure size 720x216 with 6 Axes>"
      ]
     },
     "metadata": {},
     "output_type": "display_data"
    }
   ],
   "source": [
    "n_samples_show = 6\n",
    "\n",
    "data_iter = iter(train_loader)\n",
    "\n",
    "fig, axes = plt.subplots(nrows=1, ncols=n_samples_show, figsize=(10, 3))\n",
    "\n",
    "while n_samples_show > 0:\n",
    "    images, targets = data_iter.__next__()\n",
    "\n",
    "    axes[n_samples_show - 1].imshow(images[0].numpy().squeeze(), cmap='gray')\n",
    "    axes[n_samples_show - 1].set_xticks([])\n",
    "    axes[n_samples_show - 1].set_yticks([])\n",
    "    axes[n_samples_show - 1].set_title(\"Labeled: {}\".format(targets.item()))\n",
    "    \n",
    "    n_samples_show -= 1"
   ]
  },
  {
   "cell_type": "code",
   "execution_count": 19,
   "metadata": {},
   "outputs": [
    {
     "data": {
      "text/plain": [
       "<matplotlib.axes._subplots.AxesSubplot at 0x2c9d8a24668>"
      ]
     },
     "execution_count": 19,
     "metadata": {},
     "output_type": "execute_result"
    }
   ],
   "source": [
    "axes[0]"
   ]
  },
  {
   "cell_type": "code",
   "execution_count": 33,
   "metadata": {},
   "outputs": [
    {
     "data": {
      "text/plain": [
       "tensor([[0., 0., 0.]], dtype=torch.float64)"
      ]
     },
     "execution_count": 33,
     "metadata": {},
     "output_type": "execute_result"
    }
   ],
   "source": [
    "a = torch.Tensor([[0, 0, 0]]).to(float)\n",
    "a = torch.Tensor(a).to(float)\n",
    "a"
   ]
  },
  {
   "cell_type": "code",
   "execution_count": 113,
   "metadata": {},
   "outputs": [],
   "source": [
    "class Net(nn.Module):\n",
    "    def __init__(self):\n",
    "        super(Net, self).__init__()\n",
    "        self.conv1 = nn.Conv2d(1, 6, kernel_size=5)\n",
    "        self.conv2 = nn.Conv2d(6, 16, kernel_size=5)\n",
    "        self.dropout = nn.Dropout2d()\n",
    "        self.fc1 = nn.Linear(256, 64)\n",
    "        self.fc2 = nn.Linear(64, 10)\n",
    "        self.hybrid = Hybrid(10, qiskit.Aer.get_backend('aer_simulator'), 1000, np.pi / 2)\n",
    "\n",
    "    def forward(self, x):\n",
    "        x = F.relu(self.conv1(x))\n",
    "        x = F.max_pool2d(x, 2)\n",
    "        x = F.relu(self.conv2(x))\n",
    "        x = F.max_pool2d(x, 2)\n",
    "        x = self.dropout(x)\n",
    "        #x = x.view(1, -1)\n",
    "        x = x.flatten(1)\n",
    "        x = F.relu(self.fc1(x))\n",
    "        x = self.fc2(x)\n",
    "        #print('input = ', x)\n",
    "        x = self.hybrid(x)\n",
    "        #x = torch.Tensor(x).to(float)\n",
    "        #print(x)\n",
    "        x = F.softmax(x)\n",
    "        #print('x = ', x)\n",
    "        return x"
   ]
  },
  {
   "cell_type": "code",
   "execution_count": 114,
   "metadata": {
    "scrolled": true
   },
   "outputs": [
    {
     "name": "stderr",
     "output_type": "stream",
     "text": [
      "C:\\Users\\user\\Anaconda3\\lib\\site-packages\\ipykernel_launcher.py:25: UserWarning: Implicit dimension choice for softmax has been deprecated. Change the call to include dim=X as an argument.\n"
     ]
    },
    {
     "name": "stdout",
     "output_type": "stream",
     "text": [
      "Training [5%]\tLoss: -0.1395\n",
      "Training [10%]\tLoss: -0.1769\n",
      "Training [15%]\tLoss: -0.1870\n",
      "Training [20%]\tLoss: -0.1938\n",
      "Training [25%]\tLoss: -0.1970\n",
      "Training [30%]\tLoss: -0.2000\n",
      "Training [35%]\tLoss: -0.2024\n",
      "Training [40%]\tLoss: -0.2041\n",
      "Training [45%]\tLoss: -0.2061\n",
      "Training [50%]\tLoss: -0.2078\n",
      "Training [55%]\tLoss: -0.2095\n",
      "Training [60%]\tLoss: -0.2097\n",
      "Training [65%]\tLoss: -0.2114\n",
      "Training [70%]\tLoss: -0.2108\n",
      "Training [75%]\tLoss: -0.2126\n",
      "Training [80%]\tLoss: -0.2128\n",
      "Training [85%]\tLoss: -0.2147\n",
      "Training [90%]\tLoss: -0.2140\n",
      "Training [95%]\tLoss: -0.2147\n",
      "Training [100%]\tLoss: -0.2151\n"
     ]
    }
   ],
   "source": [
    "model = Net()\n",
    "optimizer = optim.Adam(model.parameters(), lr=0.001)\n",
    "loss_func = nn.NLLLoss()\n",
    "#loss_func = nn.CrossEntropyLoss()\n",
    "\n",
    "epochs = 20\n",
    "loss_list = []\n",
    "\n",
    "model.train()\n",
    "for epoch in range(epochs):\n",
    "    total_loss = []\n",
    "    for batch_idx, (data, target) in enumerate(train_loader):\n",
    "        #print(target == 7)\n",
    "        #print(target.numpy()[0] == 7)\n",
    "        '''\n",
    "        if target.numpy()[0] == 7:\n",
    "            target = torch.LongTensor([0])\n",
    "            '''\n",
    "        optimizer.zero_grad()\n",
    "        # Forward pass\n",
    "        #print(data.size())\n",
    "        output = model(data)\n",
    "        # Calculating loss\n",
    "        #print('output = ', output)\n",
    "        #print('target = ', target)\n",
    "        loss = loss_func(output, target)\n",
    "        # Backward pass\n",
    "        loss.backward()\n",
    "        # Optimize the weights\n",
    "        optimizer.step()\n",
    "        \n",
    "        total_loss.append(loss.item())\n",
    "    loss_list.append(sum(total_loss)/len(total_loss))\n",
    "    print('Training [{:.0f}%]\\tLoss: {:.4f}'.format(\n",
    "        100. * (epoch + 1) / epochs, loss_list[-1]))"
   ]
  },
  {
   "cell_type": "code",
   "execution_count": 115,
   "metadata": {
    "scrolled": true
   },
   "outputs": [
    {
     "data": {
      "text/plain": [
       "Text(0, 0.5, 'Neg Log Likelihood Loss')"
      ]
     },
     "execution_count": 115,
     "metadata": {},
     "output_type": "execute_result"
    },
    {
     "data": {
      "image/png": "[encoded data removed]",
      "text/plain": [
       "<Figure size 432x288 with 1 Axes>"
      ]
     },
     "metadata": {
      "needs_background": "light"
     },
     "output_type": "display_data"
    }
   ],
   "source": [
    "plt.plot(loss_list)\n",
    "plt.title('Hybrid NN Training Convergence')\n",
    "plt.xlabel('Training Iterations')\n",
    "plt.ylabel('Neg Log Likelihood Loss')"
   ]
  },
  {
   "cell_type": "code",
   "execution_count": 116,
   "metadata": {
    "scrolled": true
   },
   "outputs": [],
   "source": [
    "# Concentrating on the first 100 samples\n",
    "n_samples = 50\n",
    "\n",
    "X_test = datasets.MNIST(root='./data', train=False, download=True,\n",
    "                         transform=transforms.Compose([transforms.ToTensor()]))\n",
    "\n",
    "# Leaving only labels 0 and 1 \n",
    "idx = np.append(np.where(X_test.targets == 0)[0][:n_samples], \n",
    "                np.where(X_test.targets == 1)[0][:n_samples])\n",
    "\n",
    "for i in range(2, 10):\n",
    "    idx = np.append(idx, np.where(X_test.targets == i)[0][:n_samples])\n",
    "    \n",
    "X_test.data = X_test.data[idx]\n",
    "X_test.targets = X_test.targets[idx]\n",
    "#print(X_test.targets)\n",
    "test_loader = torch.utils.data.DataLoader(X_test, batch_size=1, shuffle=True)"
   ]
  },
  {
   "cell_type": "code",
   "execution_count": 117,
   "metadata": {
    "scrolled": true
   },
   "outputs": [
    {
     "name": "stderr",
     "output_type": "stream",
     "text": [
      "C:\\Users\\user\\Anaconda3\\lib\\site-packages\\ipykernel_launcher.py:25: UserWarning: Implicit dimension choice for softmax has been deprecated. Change the call to include dim=X as an argument.\n"
     ]
    },
    {
     "name": "stdout",
     "output_type": "stream",
     "text": [
      "Performance on test data:\n",
      "\tLoss: -0.2135\n",
      "\tAccuracy: 94.4%\n"
     ]
    }
   ],
   "source": [
    "model.eval()\n",
    "with torch.no_grad():\n",
    "    \n",
    "    correct = 0\n",
    "    for batch_idx, (data, target) in enumerate(test_loader):\n",
    "        output = model(data)\n",
    "        pred = output.argmax(dim=1, keepdim=True)\n",
    "        #print('pred')\n",
    "        #print(pred)\n",
    "        #print('target')\n",
    "        #print(target)\n",
    "        #print(pred.eq(target.view_as(pred)).sum().item())\n",
    "        correct += pred.eq(target.view_as(pred)).sum().item()\n",
    "        #print(output, target)\n",
    "        loss = loss_func(output, target)\n",
    "        total_loss.append(loss.item())\n",
    "        \n",
    "    print('Performance on test data:\\n\\tLoss: {:.4f}\\n\\tAccuracy: {:.1f}%'.format(\n",
    "        sum(total_loss) / len(total_loss),\n",
    "        correct / len(test_loader) * 100)\n",
    "        )"
   ]
  }
 ],
 "metadata": {
  "kernelspec": {
   "display_name": "Python 3",
   "language": "python",
   "name": "python3"
  },
  "language_info": {
   "codemirror_mode": {
    "name": "ipython",
    "version": 3
   },
   "file_extension": ".py",
   "mimetype": "text/x-python",
   "name": "python",
   "nbconvert_exporter": "python",
   "pygments_lexer": "ipython3",
   "version": "3.7.3"
  }
 },
 "nbformat": 4,
 "nbformat_minor": 5
}
