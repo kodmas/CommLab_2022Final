{
 "cells": [
  {
   "cell_type": "code",
   "execution_count": 2,
   "metadata": {},
   "outputs": [],
   "source": [
    "import numpy as np\n",
    "import matplotlib.pyplot as plt\n",
    "\n",
    "import torch\n",
    "from torch.autograd import Function\n",
    "from torchvision import datasets, transforms\n",
    "import torch.optim as optim\n",
    "import torch.nn as nn\n",
    "import torch.nn.functional as F\n",
    "\n",
    "import qiskit\n",
    "from qiskit import transpile, assemble\n",
    "from qiskit.visualization import *"
   ]
  },
  {
   "cell_type": "code",
   "execution_count": 5,
   "metadata": {},
   "outputs": [
    {
     "data": {
      "text/plain": [
       "tensor([0.2000, 0.8000])"
      ]
     },
     "execution_count": 5,
     "metadata": {},
     "output_type": "execute_result"
    }
   ],
   "source": [
    "torch.cat((torch.Tensor([0.2]), 1 - torch.Tensor([0.2])), -1)"
   ]
  },
  {
   "cell_type": "code",
   "execution_count": 6,
   "metadata": {},
   "outputs": [
    {
     "data": {
      "text/plain": [
       "tensor([[0.2000, 0.8000]])"
      ]
     },
     "execution_count": 6,
     "metadata": {},
     "output_type": "execute_result"
    }
   ],
   "source": [
    "torch.cat((torch.Tensor([[0.2]]), 1 - torch.Tensor([[0.2]])), -1)"
   ]
  },
  {
   "cell_type": "code",
   "execution_count": 3,
   "metadata": {},
   "outputs": [],
   "source": [
    "class QuantumCircuit:\n",
    "    \"\"\" \n",
    "    This class provides a simple interface for interaction \n",
    "    with the quantum circuit \n",
    "    \"\"\"\n",
    "    \n",
    "    def __init__(self, n_qubits, backend, shots):\n",
    "        # --- Circuit definition ---\n",
    "        self._circuit = qiskit.QuantumCircuit(n_qubits)\n",
    "        self.n_qubits = n_qubits\n",
    "        all_qubits = [i for i in range(n_qubits)]\n",
    "        \n",
    "        self._circuit.h(all_qubits)\n",
    "        self._circuit.barrier()\n",
    "        \n",
    "        self.theta = []\n",
    "        for i in range(n_qubits):\n",
    "            self.theta.append(qiskit.circuit.Parameter('theta' + str(i)))\n",
    "            self._circuit.ry(self.theta[-1], i)\n",
    "        \n",
    "        self._circuit.measure_all()\n",
    "        # ---------------------------\n",
    "        \n",
    "        self.backend = backend\n",
    "        self.shots = shots\n",
    "\n",
    "    def run(self, thetas):\n",
    "        #print('in the run')\n",
    "        #print('theta = ', thetas)\n",
    "        t_qc = transpile(self._circuit,\n",
    "                         self.backend)\n",
    "        dict_for_use = {}\n",
    "        for i in range(len(self.theta)):\n",
    "            dict_for_use[self.theta[i]] = thetas[i]\n",
    "        qobj = assemble(t_qc,\n",
    "                        shots=self.shots,\n",
    "                        parameter_binds = [dict_for_use])\n",
    "        \n",
    "        job = self.backend.run(qobj)\n",
    "        result = job.result().get_counts()\n",
    "        \n",
    "        #print(result)\n",
    "        collection = [0] * self.n_qubits\n",
    "        #It means the probability of '1' for each qubit\n",
    "        for str_ in list(result.keys()):\n",
    "            for j in range(len(str_)):\n",
    "                if int(str_[len(str_) - 1 - j]):\n",
    "                    collection[j] += 1/self.shots * result[str_]\n",
    "        \n",
    "        #print('collection = ', collection)\n",
    "        \n",
    "        return collection"
   ]
  },
  {
   "cell_type": "code",
   "execution_count": 8,
   "metadata": {},
   "outputs": [
    {
     "data": {
      "text/plain": [
       "False"
      ]
     },
     "execution_count": 8,
     "metadata": {},
     "output_type": "execute_result"
    }
   ],
   "source": [
    "bool(int('0'))"
   ]
  },
  {
   "cell_type": "code",
   "execution_count": 9,
   "metadata": {},
   "outputs": [
    {
     "data": {
      "text/plain": [
       "6.0"
      ]
     },
     "execution_count": 9,
     "metadata": {},
     "output_type": "execute_result"
    }
   ],
   "source": [
    "a = torch.Tensor([1, 2, 3])\n",
    "np.sum(np.array(a))"
   ]
  },
  {
   "cell_type": "code",
   "execution_count": 77,
   "metadata": {},
   "outputs": [
    {
     "data": {
      "text/html": [
       "<pre style=\"word-wrap: normal;white-space: pre;background: #fff0;line-height: 1.1;font-family: &quot;Courier New&quot;,Courier,monospace\">        ┌───┐ ░ ┌────────────┐ ░ ┌─┐      \n",
       "   q_0: ┤ H ├─░─┤ Ry(theta0) ├─░─┤M├──────\n",
       "        ├───┤ ░ ├────────────┤ ░ └╥┘┌─┐   \n",
       "   q_1: ┤ H ├─░─┤ Ry(theta1) ├─░──╫─┤M├───\n",
       "        ├───┤ ░ ├────────────┤ ░  ║ └╥┘┌─┐\n",
       "   q_2: ┤ H ├─░─┤ Ry(theta2) ├─░──╫──╫─┤M├\n",
       "        └───┘ ░ └────────────┘ ░  ║  ║ └╥┘\n",
       "meas: 3/══════════════════════════╩══╩══╩═\n",
       "                                  0  1  2 </pre>"
      ],
      "text/plain": [
       "        ┌───┐ ░ ┌────────────┐ ░ ┌─┐      \n",
       "   q_0: ┤ H ├─░─┤ Ry(theta0) ├─░─┤M├──────\n",
       "        ├───┤ ░ ├────────────┤ ░ └╥┘┌─┐   \n",
       "   q_1: ┤ H ├─░─┤ Ry(theta1) ├─░──╫─┤M├───\n",
       "        ├───┤ ░ ├────────────┤ ░  ║ └╥┘┌─┐\n",
       "   q_2: ┤ H ├─░─┤ Ry(theta2) ├─░──╫──╫─┤M├\n",
       "        └───┘ ░ └────────────┘ ░  ║  ║ └╥┘\n",
       "meas: 3/══════════════════════════╩══╩══╩═\n",
       "                                  0  1  2 "
      ]
     },
     "execution_count": 77,
     "metadata": {},
     "output_type": "execute_result"
    }
   ],
   "source": [
    "simulator = qiskit.Aer.get_backend('aer_simulator')\n",
    "\n",
    "circuit = QuantumCircuit(3, simulator, 1000)\n",
    "#print('Expected value for rotation pi {}'.format(circuit.run([np.pi])[0]))\n",
    "circuit._circuit.draw()"
   ]
  },
  {
   "cell_type": "code",
   "execution_count": 81,
   "metadata": {},
   "outputs": [
    {
     "name": "stdout",
     "output_type": "stream",
     "text": [
      "{'100': 101, '111': 120, '110': 126, '000': 120, '101': 128, '011': 130, '010': 130, '001': 145}\n"
     ]
    },
    {
     "data": {
      "text/plain": [
       "[0.523, 0.506, 0.475]"
      ]
     },
     "execution_count": 81,
     "metadata": {},
     "output_type": "execute_result"
    }
   ],
   "source": [
    "circuit.run([0, 0, 0])"
   ]
  },
  {
   "cell_type": "code",
   "execution_count": 11,
   "metadata": {},
   "outputs": [
    {
     "data": {
      "text/plain": [
       "tensor([[1, 2]])"
      ]
     },
     "execution_count": 11,
     "metadata": {},
     "output_type": "execute_result"
    }
   ],
   "source": [
    "torch.tensor([[1, 2]])"
   ]
  },
  {
   "cell_type": "code",
   "execution_count": 9,
   "metadata": {},
   "outputs": [],
   "source": [
    "class HybridFunction(Function):\n",
    "    \"\"\" Hybrid quantum - classical function definition \"\"\"\n",
    "    \n",
    "    @staticmethod\n",
    "    def forward(ctx, input, quantum_circuit, shift):\n",
    "        \"\"\" Forward pass computation \"\"\"\n",
    "        ctx.shift = shift\n",
    "        ctx.quantum_circuit = quantum_circuit\n",
    "        \n",
    "        print('input[0].tolist() = ', input[0].tolist())\n",
    "        print('input.shape= ', input.shape)\n",
    "        expectation_z = ctx.quantum_circuit.run(input[0].tolist())\n",
    "        #print(expectation_z)\n",
    "        #here\n",
    "        result = torch.tensor([expectation_z])\n",
    "        ctx.save_for_backward(input, result)\n",
    "\n",
    "        return result\n",
    "        \n",
    "    @staticmethod\n",
    "    def backward(ctx, grad_output):\n",
    "        \"\"\" Backward pass computation \"\"\"\n",
    "        input, expectation_z = ctx.saved_tensors\n",
    "        \n",
    "        \n",
    "        input_list = np.array(input.tolist())\n",
    "        #print('input_list =', input_list)\n",
    "        shift_right = input_list + np.ones(input_list.shape) * ctx.shift\n",
    "        shift_left = input_list - np.ones(input_list.shape) * ctx.shift\n",
    "        \n",
    "        #print('shift_right =', shift_right)\n",
    "        #print('shift_left =', shift_left)\n",
    "        #gradients = []\n",
    "        #print('grad_output.float() = ', grad_output.float())\n",
    "        \n",
    "        for i in range(len(input_list)):\n",
    "            expectation_right = ctx.quantum_circuit.run(shift_right[i])\n",
    "            expectation_left  = ctx.quantum_circuit.run(shift_left[i])\n",
    "            \n",
    "            gradient = 0.5 * (torch.tensor([expectation_right]) - torch.tensor([expectation_left]))\n",
    "            #print('gradient = ', gradient)\n",
    "            gradients = gradient.numpy()\n",
    "            #gradients.append(gradient)\n",
    "        #print('gradients = ', gradients)\n",
    "            \n",
    "        #gradients = np.array([gradients]).T\n",
    "        #print('grad_output', grad_output.float())\n",
    "        #print('gradients', torch.tensor(gradients).float())\n",
    "        #print('multiply', torch.tensor(gradients).float() * grad_output.float())\n",
    "        return torch.tensor(gradients).float() * grad_output.float(), None, None\n",
    "\n",
    "class Hybrid(nn.Module):\n",
    "    \"\"\" Hybrid quantum - classical layer definition \"\"\"\n",
    "    \n",
    "    def __init__(self, num, backend, shots, shift):\n",
    "        super(Hybrid, self).__init__()\n",
    "        self.quantum_circuit = QuantumCircuit(num, backend, shots)\n",
    "        self.shift = shift\n",
    "        \n",
    "    def forward(self, input):\n",
    "        return HybridFunction.apply(input, self.quantum_circuit, self.shift)"
   ]
  },
  {
   "cell_type": "code",
   "execution_count": 13,
   "metadata": {},
   "outputs": [
    {
     "data": {
      "text/plain": [
       "array([[0.495],\n",
       "       [0.2  ]], dtype=float32)"
      ]
     },
     "execution_count": 13,
     "metadata": {},
     "output_type": "execute_result"
    }
   ],
   "source": [
    "torch.Tensor([[0.4950, 0.2]]).numpy().T"
   ]
  },
  {
   "cell_type": "code",
   "execution_count": 14,
   "metadata": {},
   "outputs": [
    {
     "data": {
      "text/plain": [
       "array([[[[0.495]]],\n",
       "\n",
       "\n",
       "       [[[0.2  ]]]], dtype=float32)"
      ]
     },
     "execution_count": 14,
     "metadata": {},
     "output_type": "execute_result"
    }
   ],
   "source": [
    "np.array([[torch.Tensor([[0.4950, 0.2]]).numpy() ]]).T"
   ]
  },
  {
   "cell_type": "code",
   "execution_count": 15,
   "metadata": {
    "scrolled": true
   },
   "outputs": [
    {
     "name": "stderr",
     "output_type": "stream",
     "text": [
      "C:\\Users\\user\\Anaconda3\\lib\\site-packages\\ipykernel_launcher.py:1: FutureWarning: The input object of type 'Tensor' is an array-like implementing one of the corresponding protocols (`__array__`, `__array_interface__` or `__array_struct__`); but not a sequence (or 0-D). In the future, this object will be coerced as if it was first converted using `np.array(obj)`. To retain the old behaviour, you have to either modify the type 'Tensor', or assign to an empty array created with `np.empty(correct_shape, dtype=object)`.\n",
      "  \"\"\"Entry point for launching an IPython kernel.\n"
     ]
    },
    {
     "data": {
      "text/plain": [
       "array([[0.495]], dtype=float32)"
      ]
     },
     "execution_count": 15,
     "metadata": {},
     "output_type": "execute_result"
    }
   ],
   "source": [
    "np.array([[torch.Tensor([[0.4950]])]]).T"
   ]
  },
  {
   "cell_type": "code",
   "execution_count": 16,
   "metadata": {
    "scrolled": true
   },
   "outputs": [
    {
     "name": "stdout",
     "output_type": "stream",
     "text": [
      "tensor([5., 3., 2., 4., 1.])\n"
     ]
    },
    {
     "data": {
      "text/plain": [
       "(array([1, 2, 4], dtype=int64),)"
      ]
     },
     "execution_count": 16,
     "metadata": {},
     "output_type": "execute_result"
    }
   ],
   "source": [
    "print(torch.Tensor([5, 3, 2, 4, 1]))\n",
    "np.where(torch.Tensor([5, 3, 2, 4, 1]) <= 3)"
   ]
  },
  {
   "cell_type": "code",
   "execution_count": 5,
   "metadata": {},
   "outputs": [
    {
     "name": "stdout",
     "output_type": "stream",
     "text": [
      "Downloading http://yann.lecun.com/exdb/mnist/train-images-idx3-ubyte.gz\n",
      "Downloading http://yann.lecun.com/exdb/mnist/train-images-idx3-ubyte.gz to ./data/MNIST/raw/train-images-idx3-ubyte.gz\n"
     ]
    },
    {
     "name": "stderr",
     "output_type": "stream",
     "text": [
      "100.0%\n"
     ]
    },
    {
     "name": "stdout",
     "output_type": "stream",
     "text": [
      "Extracting ./data/MNIST/raw/train-images-idx3-ubyte.gz to ./data/MNIST/raw\n"
     ]
    },
    {
     "name": "stderr",
     "output_type": "stream",
     "text": [
      "100.0%"
     ]
    },
    {
     "name": "stdout",
     "output_type": "stream",
     "text": [
      "\n",
      "Downloading http://yann.lecun.com/exdb/mnist/train-labels-idx1-ubyte.gz\n",
      "Downloading http://yann.lecun.com/exdb/mnist/train-labels-idx1-ubyte.gz to ./data/MNIST/raw/train-labels-idx1-ubyte.gz\n",
      "Extracting ./data/MNIST/raw/train-labels-idx1-ubyte.gz to ./data/MNIST/raw\n",
      "\n",
      "Downloading http://yann.lecun.com/exdb/mnist/t10k-images-idx3-ubyte.gz\n"
     ]
    },
    {
     "name": "stderr",
     "output_type": "stream",
     "text": [
      "\n",
      "35.8%"
     ]
    },
    {
     "name": "stdout",
     "output_type": "stream",
     "text": [
      "Downloading http://yann.lecun.com/exdb/mnist/t10k-images-idx3-ubyte.gz to ./data/MNIST/raw/t10k-images-idx3-ubyte.gz\n"
     ]
    },
    {
     "name": "stderr",
     "output_type": "stream",
     "text": [
      "100.0%\n"
     ]
    },
    {
     "name": "stdout",
     "output_type": "stream",
     "text": [
      "Extracting ./data/MNIST/raw/t10k-images-idx3-ubyte.gz to ./data/MNIST/raw\n",
      "\n",
      "Downloading http://yann.lecun.com/exdb/mnist/t10k-labels-idx1-ubyte.gz\n",
      "Downloading http://yann.lecun.com/exdb/mnist/t10k-labels-idx1-ubyte.gz to ./data/MNIST/raw/t10k-labels-idx1-ubyte.gz\n"
     ]
    },
    {
     "name": "stderr",
     "output_type": "stream",
     "text": [
      "100.0%"
     ]
    },
    {
     "name": "stdout",
     "output_type": "stream",
     "text": [
      "Extracting ./data/MNIST/raw/t10k-labels-idx1-ubyte.gz to ./data/MNIST/raw\n",
      "\n"
     ]
    },
    {
     "name": "stderr",
     "output_type": "stream",
     "text": [
      "\n"
     ]
    }
   ],
   "source": [
    "# Concentrating on the first 100 samples\n",
    "n_samples = 100\n",
    "\n",
    "X_train = datasets.MNIST(root='./data', train=True, download=True,\n",
    "                         transform=transforms.Compose([transforms.ToTensor()]))\n",
    "\n",
    "# Leaving only labels 0 and 1 \n",
    "idx = np.append(np.where(X_train.targets == 0)[0][:n_samples], \n",
    "                np.where(X_train.targets == 1)[0][:n_samples])\n",
    "\n",
    "for i in range(2, 10):\n",
    "    idx = np.append(idx, np.where(X_train.targets == i)[0][:n_samples])\n",
    "    \n",
    "X_train.data = X_train.data[idx]\n",
    "X_train.targets = X_train.targets[idx]\n",
    "train_loader = torch.utils.data.DataLoader(X_train, batch_size=1, shuffle=True)"
   ]
  },
  {
   "cell_type": "code",
   "execution_count": 6,
   "metadata": {},
   "outputs": [
    {
     "data": {
      "image/png": "[encoded data removed]",
      "text/plain": [
       "<Figure size 1000x300 with 6 Axes>"
      ]
     },
     "metadata": {},
     "output_type": "display_data"
    }
   ],
   "source": [
    "n_samples_show = 6\n",
    "\n",
    "data_iter = iter(train_loader)\n",
    "\n",
    "fig, axes = plt.subplots(nrows=1, ncols=n_samples_show, figsize=(10, 3))\n",
    "\n",
    "while n_samples_show > 0:\n",
    "    images, targets = data_iter.__next__()\n",
    "\n",
    "    axes[n_samples_show - 1].imshow(images[0].numpy().squeeze(), cmap='gray')\n",
    "    axes[n_samples_show - 1].set_xticks([])\n",
    "    axes[n_samples_show - 1].set_yticks([])\n",
    "    axes[n_samples_show - 1].set_title(\"Labeled: {}\".format(targets.item()))\n",
    "    \n",
    "    n_samples_show -= 1"
   ]
  },
  {
   "cell_type": "code",
   "execution_count": 19,
   "metadata": {},
   "outputs": [
    {
     "data": {
      "text/plain": [
       "<matplotlib.axes._subplots.AxesSubplot at 0x2c9d8a24668>"
      ]
     },
     "execution_count": 19,
     "metadata": {},
     "output_type": "execute_result"
    }
   ],
   "source": [
    "axes[0]"
   ]
  },
  {
   "cell_type": "code",
   "execution_count": 33,
   "metadata": {},
   "outputs": [
    {
     "data": {
      "text/plain": [
       "tensor([[0., 0., 0.]], dtype=torch.float64)"
      ]
     },
     "execution_count": 33,
     "metadata": {},
     "output_type": "execute_result"
    }
   ],
   "source": [
    "a = torch.Tensor([[0, 0, 0]]).to(float)\n",
    "a = torch.Tensor(a).to(float)\n",
    "a"
   ]
  },
  {
   "cell_type": "code",
   "execution_count": 7,
   "metadata": {},
   "outputs": [],
   "source": [
    "class Net(nn.Module):\n",
    "    def __init__(self):\n",
    "        super(Net, self).__init__()\n",
    "        self.conv1 = nn.Conv2d(1, 6, kernel_size=5)\n",
    "        self.conv2 = nn.Conv2d(6, 16, kernel_size=5)\n",
    "        self.dropout = nn.Dropout2d()\n",
    "        self.fc1 = nn.Linear(256, 64)\n",
    "        self.fc2 = nn.Linear(64, 10)\n",
    "        self.hybrid = Hybrid(10, qiskit.Aer.get_backend('aer_simulator'), 1000, np.pi / 2)\n",
    "\n",
    "    def forward(self, x):\n",
    "        x = F.relu(self.conv1(x))\n",
    "        x = F.max_pool2d(x, 2)\n",
    "        x = F.relu(self.conv2(x))\n",
    "        x = F.max_pool2d(x, 2)\n",
    "        x = self.dropout(x)\n",
    "        #x = x.view(1, -1)\n",
    "        x = x.flatten(1)\n",
    "        x = F.relu(self.fc1(x))\n",
    "        x = self.fc2(x)\n",
    "        #print('input = ', x)\n",
    "        x = self.hybrid(x)\n",
    "        #x = torch.Tensor(x).to(float)\n",
    "        #print(x)\n",
    "        x = F.softmax(x)\n",
    "        #print('x = ', x)\n",
    "        return x"
   ]
  },
  {
   "cell_type": "code",
   "execution_count": 10,
   "metadata": {
    "scrolled": true
   },
   "outputs": [
    {
     "name": "stdout",
     "output_type": "stream",
     "text": [
      "input[0].tolist() =  [0.012883372604846954, 0.03751307725906372, 0.035095058381557465, 0.055988699197769165, 0.11940065026283264, -0.1586601883172989, 0.02501482143998146, 0.05290183424949646, -0.02261558547616005, -0.14386816322803497]\n",
      "input.shape=  torch.Size([1, 10])\n",
      "input[0].tolist() =  [0.045454636216163635, 0.04340609163045883, 0.06526491791009903, 0.08620420098304749, 0.07195208221673965, -0.17469507455825806, 0.048098884522914886, -0.04581601917743683, -0.032027002424001694, -0.14751727879047394]\n",
      "input.shape=  torch.Size([1, 10])\n",
      "input[0].tolist() =  [0.026473507285118103, 0.057878077030181885, 0.043346475809812546, 0.0964832454919815, 0.10826870799064636, -0.2157643735408783, 0.11005999147891998, -0.07113035768270493, -0.06591018289327621, -0.1922473907470703]\n",
      "input.shape=  torch.Size([1, 10])\n"
     ]
    },
    {
     "name": "stderr",
     "output_type": "stream",
     "text": [
      "/var/folders/q3/rbp1fpy10c3ff9w1fyr_djbr0000gn/T/ipykernel_78674/3076565514.py:25: UserWarning: Implicit dimension choice for softmax has been deprecated. Change the call to include dim=X as an argument.\n",
      "  x = F.softmax(x)\n"
     ]
    },
    {
     "name": "stdout",
     "output_type": "stream",
     "text": [
      "input[0].tolist() =  [0.0264473557472229, 0.1235949844121933, 0.01908857747912407, 0.11781458556652069, 0.13928532600402832, -0.21226471662521362, 0.12477122992277145, -0.07008680701255798, -0.11235170066356659, -0.056389059871435165]\n",
      "input.shape=  torch.Size([1, 10])\n",
      "input[0].tolist() =  [-0.022085808217525482, 0.11919800937175751, 0.06294573843479156, 0.05019495263695717, 0.11905253678560257, -0.3045305907726288, 0.14603279531002045, -0.025806497782468796, -0.09955482184886932, -0.16598260402679443]\n",
      "input.shape=  torch.Size([1, 10])\n",
      "input[0].tolist() =  [-0.05153945833444595, 0.04149743169546127, -0.013909861445426941, 0.15060803294181824, 0.11348707973957062, -0.26313865184783936, 0.20003986358642578, -0.0861174613237381, -0.11307249218225479, -0.12420384585857391]\n",
      "input.shape=  torch.Size([1, 10])\n",
      "input[0].tolist() =  [0.001926124095916748, 0.04949795454740524, 0.06515195965766907, 0.12909717857837677, 0.03952474147081375, -0.14906737208366394, 0.1368880271911621, -0.06298936158418655, -0.05824608355760574, -0.08977214992046356]\n",
      "input.shape=  torch.Size([1, 10])\n",
      "input[0].tolist() =  [-0.13711565732955933, 0.08079791814088821, 0.03442735970020294, 0.14392942190170288, 0.2003527283668518, -0.4811960756778717, 0.4560617208480835, -0.14201873540878296, -0.14933376014232635, -0.2580035328865051]\n",
      "input.shape=  torch.Size([1, 10])\n",
      "input[0].tolist() =  [-0.15389792621135712, 0.024742789566516876, 0.01625448279082775, 0.14459839463233948, 0.17984601855278015, -0.44841116666793823, 0.42528843879699707, -0.15339520573616028, -0.15395206212997437, -0.24952255189418793]\n",
      "input.shape=  torch.Size([1, 10])\n",
      "input[0].tolist() =  [0.028222251683473587, 0.08438378572463989, 0.07080228626728058, 0.029407616704702377, 0.08931483328342438, -0.33355414867401123, 0.06684560328722, -0.053732022643089294, -0.0846572071313858, -0.19006669521331787]\n",
      "input.shape=  torch.Size([1, 10])\n",
      "input[0].tolist() =  [-0.09321700781583786, 0.07324235141277313, 0.004723496735095978, 0.0851193517446518, 0.18450674414634705, -0.3753519654273987, 0.3492501676082611, -0.15888001024723053, -0.11830523610115051, -0.23747846484184265]\n",
      "input.shape=  torch.Size([1, 10])\n",
      "input[0].tolist() =  [-0.06950603425502777, 0.049662865698337555, 0.07284323871135712, 0.1042465791106224, 0.1587657630443573, -0.3490142822265625, 0.27186447381973267, -0.14104560017585754, -0.13169482350349426, -0.14348962903022766]\n",
      "input.shape=  torch.Size([1, 10])\n",
      "input[0].tolist() =  [-0.012081712484359741, 0.0603414811193943, 0.06502147763967514, 0.0924348384141922, 0.0942009761929512, -0.1929410696029663, 0.13316909968852997, -0.09706692397594452, -0.1611994206905365, -0.04047643393278122]\n",
      "input.shape=  torch.Size([1, 10])\n",
      "input[0].tolist() =  [-0.02693594992160797, 0.08412674814462662, 0.07152723520994186, 0.06868673115968704, 0.09330330044031143, -0.18249455094337463, 0.1420108526945114, -0.12576356530189514, -0.11665012687444687, -0.08620961010456085]\n",
      "input.shape=  torch.Size([1, 10])\n",
      "input[0].tolist() =  [-0.07839357107877731, 0.08636480569839478, 0.13137194514274597, 0.11990311741828918, 0.1915990263223648, -0.2762402594089508, 0.2808827757835388, -0.19487303495407104, -0.21364548802375793, -0.11596205830574036]\n",
      "input.shape=  torch.Size([1, 10])\n",
      "input[0].tolist() =  [-0.09869971871376038, 0.11492407321929932, -0.04158984124660492, -0.03197699040174484, 0.18868254125118256, -0.40843409299850464, 0.299238920211792, -0.21903865039348602, -0.15094493329524994, -0.338392049074173]\n",
      "input.shape=  torch.Size([1, 10])\n",
      "input[0].tolist() =  [-0.10447420924901962, 0.02063785493373871, 0.1002846509218216, 0.015468653291463852, 0.2679470479488373, -0.28977805376052856, 0.32843366265296936, -0.20750099420547485, -0.20289510488510132, -0.15010815858840942]\n",
      "input.shape=  torch.Size([1, 10])\n",
      "input[0].tolist() =  [-0.03696265071630478, 0.07729972153902054, 0.08418016135692596, 0.06706516444683075, 0.16824768483638763, -0.2905934751033783, 0.19922871887683868, -0.17246776819229126, -0.17087237536907196, -0.13304388523101807]\n",
      "input.shape=  torch.Size([1, 10])\n",
      "input[0].tolist() =  [-0.004955194890499115, 0.08136306703090668, 0.04171730577945709, 0.04111059755086899, 0.057193707674741745, -0.12072420120239258, 0.08374740183353424, -0.0824839249253273, -0.0806807354092598, -0.08627741783857346]\n",
      "input.shape=  torch.Size([1, 10])\n",
      "input[0].tolist() =  [-0.016765393316745758, 0.057415757328271866, 0.06317897140979767, 0.03516806662082672, 0.18832969665527344, -0.15760985016822815, 0.2160058319568634, -0.14757737517356873, -0.14189545810222626, -0.1311642974615097]\n",
      "input.shape=  torch.Size([1, 10])\n",
      "input[0].tolist() =  [-0.014759697020053864, 0.08868218958377838, 0.02127411775290966, 0.042883746325969696, 0.1161080077290535, -0.2434881627559662, 0.15115077793598175, -0.09259958565235138, -0.07000310719013214, -0.14576247334480286]\n",
      "input.shape=  torch.Size([1, 10])\n",
      "input[0].tolist() =  [0.005783110857009888, 0.0898558497428894, 0.009202847257256508, -0.045001283288002014, 0.1410377472639084, -0.22609788179397583, 0.1405756175518036, -0.09073778986930847, -0.07402630150318146, -0.23441369831562042]\n",
      "input.shape=  torch.Size([1, 10])\n",
      "input[0].tolist() =  [-0.03859198838472366, 0.1232161745429039, 0.04510766267776489, 0.011892866343259811, 0.1577254980802536, -0.2565455138683319, 0.19396258890628815, -0.13054293394088745, -0.11204198002815247, -0.23137828707695007]\n",
      "input.shape=  torch.Size([1, 10])\n",
      "input[0].tolist() =  [-0.014562748372554779, 0.10037721693515778, 0.008180148899555206, -0.020708486437797546, 0.0853591188788414, -0.18599143624305725, 0.0816674456000328, -0.08112585544586182, -0.07308755069971085, -0.2127324342727661]\n",
      "input.shape=  torch.Size([1, 10])\n",
      "input[0].tolist() =  [-0.03766660392284393, 0.08537443727254868, 0.020263100042939186, 0.006359944120049477, 0.13710948824882507, -0.19421759247779846, 0.1568889319896698, -0.09807655960321426, -0.10199259221553802, -0.17493900656700134]\n",
      "input.shape=  torch.Size([1, 10])\n",
      "input[0].tolist() =  [0.01624547690153122, 0.08916623890399933, 0.006599770858883858, 0.024530330672860146, 0.12131740897893906, -0.1794646978378296, 0.10701372474431992, -0.09294743835926056, -0.06804163753986359, -0.14425742626190186]\n",
      "input.shape=  torch.Size([1, 10])\n",
      "input[0].tolist() =  [-0.033490777015686035, 0.1321580857038498, 0.014849107712507248, -0.057344701141119, 0.14070497453212738, -0.25107160210609436, 0.1503460556268692, -0.10375337302684784, -0.07126975059509277, -0.2791972756385803]\n",
      "input.shape=  torch.Size([1, 10])\n",
      "input[0].tolist() =  [-0.09095077216625214, 0.1038433164358139, 0.007439509034156799, -0.057888470590114594, 0.24523019790649414, -0.290638267993927, 0.26047417521476746, -0.11173510551452637, -0.11404581367969513, -0.30169644951820374]\n",
      "input.shape=  torch.Size([1, 10])\n",
      "input[0].tolist() =  [0.033272236585617065, 0.1431584656238556, 0.019214970991015434, -0.01117030531167984, 0.09991364181041718, -0.17868545651435852, 0.0683421790599823, -0.048563152551651, -0.02221641130745411, -0.2308993637561798]\n",
      "input.shape=  torch.Size([1, 10])\n",
      "input[0].tolist() =  [-0.00015387684106826782, 0.08683977276086807, 0.051526010036468506, -0.0007867217063903809, 0.11199671775102615, -0.19191449880599976, 0.04025162011384964, -0.09651806950569153, -0.0692739263176918, -0.16173729300498962]\n",
      "input.shape=  torch.Size([1, 10])\n",
      "input[0].tolist() =  [0.003166280686855316, 0.0823695957660675, 0.019944440573453903, -0.006033901125192642, 0.09002669155597687, -0.22309893369674683, 0.048667725175619125, -0.06753185391426086, -0.04106443375349045, -0.1984616219997406]\n",
      "input.shape=  torch.Size([1, 10])\n",
      "input[0].tolist() =  [0.0029565170407295227, 0.12245739996433258, -0.006107859313488007, 0.0208548866212368, 0.09975948929786682, -0.18790650367736816, 0.12964674830436707, -0.06921516358852386, -0.054938096553087234, -0.19272451102733612]\n",
      "input.shape=  torch.Size([1, 10])\n",
      "input[0].tolist() =  [0.03253057599067688, 0.13560503721237183, 0.05611559376120567, -0.05210225656628609, 0.16223827004432678, -0.15474173426628113, 0.08674303442239761, -0.019156286492943764, -0.06721167266368866, -0.21956227719783783]\n",
      "input.shape=  torch.Size([1, 10])\n",
      "input[0].tolist() =  [-0.0030580908060073853, 0.10804979503154755, 0.028646225109696388, 0.051866378635168076, 0.1275552362203598, -0.1525021195411682, 0.11736135929822922, -0.10009624809026718, -0.11056162416934967, -0.12449488788843155]\n",
      "input.shape=  torch.Size([1, 10])\n",
      "input[0].tolist() =  [0.06113966554403305, 0.09658670425415039, -0.0038803499191999435, -0.00044937804341316223, 0.07956916093826294, -0.13911297917366028, 0.006593243218958378, -0.013764193281531334, -0.0017116926610469818, -0.15841540694236755]\n",
      "input.shape=  torch.Size([1, 10])\n",
      "input[0].tolist() =  [0.05431747063994408, 0.11734271794557571, 0.028796080499887466, 0.010099291801452637, 0.0667046308517456, -0.11426430940628052, 0.024003349244594574, -0.04064460098743439, -0.050136588513851166, -0.17961224913597107]\n",
      "input.shape=  torch.Size([1, 10])\n",
      "input[0].tolist() =  [0.036787647753953934, 0.07727576047182083, -0.010428007692098618, 0.018419578671455383, 0.09085880219936371, -0.13724389672279358, 0.029489759355783463, -0.06516818702220917, -0.07051537930965424, -0.10278291255235672]\n",
      "input.shape=  torch.Size([1, 10])\n",
      "input[0].tolist() =  [0.04082754626870155, 0.1204095184803009, -0.045814525336027145, -0.02919415757060051, 0.12975235283374786, -0.16508696973323822, 0.11719878017902374, -0.05658711493015289, -0.04547567293047905, -0.27552086114883423]\n",
      "input.shape=  torch.Size([1, 10])\n",
      "input[0].tolist() =  [0.026325121521949768, 0.08575901389122009, -0.07801280170679092, -0.00017729401588439941, 0.15703526139259338, -0.1835254430770874, 0.14020748436450958, -0.05813612416386604, -0.03477916866540909, -0.3105887174606323]\n",
      "input.shape=  torch.Size([1, 10])\n",
      "input[0].tolist() =  [0.009581923484802246, 0.130469411611557, -0.010930880904197693, -0.022023923695087433, 0.15174616873264313, -0.16561415791511536, 0.13172581791877747, -0.06620272248983383, -0.10679645836353302, -0.17729264497756958]\n",
      "input.shape=  torch.Size([1, 10])\n",
      "input[0].tolist() =  [0.010453931987285614, 0.1303168386220932, 0.013412141241133213, 0.060467805713415146, 0.07486164569854736, -0.10999328643083572, 0.07338167726993561, -0.08467034995555878, -0.0809926763176918, -0.12628281116485596]\n",
      "input.shape=  torch.Size([1, 10])\n",
      "input[0].tolist() =  [0.007180556654930115, 0.07206489145755768, -0.07771290838718414, -0.01964777335524559, 0.16337493062019348, -0.1704147756099701, 0.16928181052207947, -0.09622125327587128, -0.06493666768074036, -0.2774372696876526]\n",
      "input.shape=  torch.Size([1, 10])\n",
      "input[0].tolist() =  [0.026629801839590073, 0.07524950057268143, -0.03362720459699631, -0.03087986260652542, 0.12128114700317383, -0.08694985508918762, 0.08534304052591324, -0.04396996647119522, -0.04028408229351044, -0.22908279299736023]\n",
      "input.shape=  torch.Size([1, 10])\n",
      "input[0].tolist() =  [-0.021211698651313782, 0.06587660312652588, -0.05864735692739487, -0.11779673397541046, 0.14830908179283142, -0.1966579258441925, 0.1440213918685913, -0.08390301465988159, -0.07636985927820206, -0.27933764457702637]\n",
      "input.shape=  torch.Size([1, 10])\n",
      "input[0].tolist() =  [0.016381017863750458, 0.11602365225553513, -0.07423736900091171, -0.07030196487903595, 0.12536735832691193, -0.20123538374900818, 0.13657408952713013, -0.08205713331699371, -0.05016804113984108, -0.2898316979408264]\n",
      "input.shape=  torch.Size([1, 10])\n",
      "input[0].tolist() =  [0.0571284256875515, 0.07734227180480957, -0.05662258341908455, -0.042217377573251724, 0.08975926041603088, -0.10321760177612305, 0.06699202209711075, -0.06350366771221161, 0.001988448202610016, -0.2780672609806061]\n",
      "input.shape=  torch.Size([1, 10])\n",
      "input[0].tolist() =  [0.05099687725305557, 0.07578377425670624, -0.08740971982479095, -0.05745803564786911, 0.10657267272472382, -0.15651275217533112, 0.11671017110347748, -0.07965646684169769, 5.5324286222457886e-05, -0.33229702711105347]\n",
      "input.shape=  torch.Size([1, 10])\n",
      "input[0].tolist() =  [0.014575488865375519, 0.10677792876958847, -0.03545820713043213, 0.01527349092066288, 0.12257272005081177, -0.15439677238464355, 0.12924699485301971, -0.07662305235862732, -0.10797721147537231, -0.13887840509414673]\n",
      "input.shape=  torch.Size([1, 10])\n",
      "input[0].tolist() =  [0.017392665147781372, 0.057880427688360214, -0.10877838730812073, -0.0335664264857769, 0.10029609501361847, -0.17120075225830078, 0.10797938704490662, -0.09241607785224915, -0.03663912042975426, -0.274929404258728]\n",
      "input.shape=  torch.Size([1, 10])\n",
      "input[0].tolist() =  [0.07721129059791565, 0.06002315506339073, -0.07292868942022324, 0.03699669986963272, 0.09914146363735199, -0.09632257372140884, 0.10499779134988785, -0.1083277016878128, -0.008311349898576736, -0.17360524833202362]\n",
      "input.shape=  torch.Size([1, 10])\n",
      "input[0].tolist() =  [0.11589144170284271, 0.03639855235815048, -0.08343803882598877, -0.03274025395512581, 0.0964534729719162, -0.03382505476474762, 0.04603468254208565, -0.02871542051434517, 0.05679312348365784, -0.26885154843330383]\n",
      "input.shape=  torch.Size([1, 10])\n",
      "input[0].tolist() =  [0.0854596495628357, 0.048353567719459534, -0.0939183384180069, -0.049096979200839996, 0.05617213994264603, -0.06021495908498764, 0.03912344574928284, -0.0718303918838501, 0.02966560423374176, -0.2864849269390106]\n",
      "input.shape=  torch.Size([1, 10])\n",
      "input[0].tolist() =  [0.05012071505188942, 0.07997369021177292, -0.012136762030422688, 0.044798918068408966, 0.08065380156040192, -0.10878200829029083, 0.06729196012020111, -0.07568135857582092, -0.0536370649933815, -0.12566374242305756]\n",
      "input.shape=  torch.Size([1, 10])\n"
     ]
    },
    {
     "ename": "KeyboardInterrupt",
     "evalue": "",
     "output_type": "error",
     "traceback": [
      "\u001b[0;31m---------------------------------------------------------------------------\u001b[0m",
      "\u001b[0;31mKeyboardInterrupt\u001b[0m                         Traceback (most recent call last)",
      "\u001b[1;32m/Users/jerry1203/Desktop/CommLab_2022Final/multi-classifier_10_qubit_output_layer.ipynb Cell 20\u001b[0m in \u001b[0;36m<cell line: 10>\u001b[0;34m()\u001b[0m\n\u001b[1;32m     <a href='vscode-notebook-cell:/Users/jerry1203/Desktop/CommLab_2022Final/multi-classifier_10_qubit_output_layer.ipynb#X31sZmlsZQ%3D%3D?line=25'>26</a>\u001b[0m loss \u001b[39m=\u001b[39m loss_func(output, target)\n\u001b[1;32m     <a href='vscode-notebook-cell:/Users/jerry1203/Desktop/CommLab_2022Final/multi-classifier_10_qubit_output_layer.ipynb#X31sZmlsZQ%3D%3D?line=26'>27</a>\u001b[0m \u001b[39m# Backward pass\u001b[39;00m\n\u001b[0;32m---> <a href='vscode-notebook-cell:/Users/jerry1203/Desktop/CommLab_2022Final/multi-classifier_10_qubit_output_layer.ipynb#X31sZmlsZQ%3D%3D?line=27'>28</a>\u001b[0m loss\u001b[39m.\u001b[39;49mbackward()\n\u001b[1;32m     <a href='vscode-notebook-cell:/Users/jerry1203/Desktop/CommLab_2022Final/multi-classifier_10_qubit_output_layer.ipynb#X31sZmlsZQ%3D%3D?line=28'>29</a>\u001b[0m \u001b[39m# Optimize the weights\u001b[39;00m\n\u001b[1;32m     <a href='vscode-notebook-cell:/Users/jerry1203/Desktop/CommLab_2022Final/multi-classifier_10_qubit_output_layer.ipynb#X31sZmlsZQ%3D%3D?line=29'>30</a>\u001b[0m optimizer\u001b[39m.\u001b[39mstep()\n",
      "File \u001b[0;32m/opt/anaconda3/envs/IBMQ/lib/python3.10/site-packages/torch/_tensor.py:487\u001b[0m, in \u001b[0;36mTensor.backward\u001b[0;34m(self, gradient, retain_graph, create_graph, inputs)\u001b[0m\n\u001b[1;32m    477\u001b[0m \u001b[39mif\u001b[39;00m has_torch_function_unary(\u001b[39mself\u001b[39m):\n\u001b[1;32m    478\u001b[0m     \u001b[39mreturn\u001b[39;00m handle_torch_function(\n\u001b[1;32m    479\u001b[0m         Tensor\u001b[39m.\u001b[39mbackward,\n\u001b[1;32m    480\u001b[0m         (\u001b[39mself\u001b[39m,),\n\u001b[0;32m   (...)\u001b[0m\n\u001b[1;32m    485\u001b[0m         inputs\u001b[39m=\u001b[39minputs,\n\u001b[1;32m    486\u001b[0m     )\n\u001b[0;32m--> 487\u001b[0m torch\u001b[39m.\u001b[39;49mautograd\u001b[39m.\u001b[39;49mbackward(\n\u001b[1;32m    488\u001b[0m     \u001b[39mself\u001b[39;49m, gradient, retain_graph, create_graph, inputs\u001b[39m=\u001b[39;49minputs\n\u001b[1;32m    489\u001b[0m )\n",
      "File \u001b[0;32m/opt/anaconda3/envs/IBMQ/lib/python3.10/site-packages/torch/autograd/__init__.py:197\u001b[0m, in \u001b[0;36mbackward\u001b[0;34m(tensors, grad_tensors, retain_graph, create_graph, grad_variables, inputs)\u001b[0m\n\u001b[1;32m    192\u001b[0m     retain_graph \u001b[39m=\u001b[39m create_graph\n\u001b[1;32m    194\u001b[0m \u001b[39m# The reason we repeat same the comment below is that\u001b[39;00m\n\u001b[1;32m    195\u001b[0m \u001b[39m# some Python versions print out the first line of a multi-line function\u001b[39;00m\n\u001b[1;32m    196\u001b[0m \u001b[39m# calls in the traceback and some print out the last line\u001b[39;00m\n\u001b[0;32m--> 197\u001b[0m Variable\u001b[39m.\u001b[39;49m_execution_engine\u001b[39m.\u001b[39;49mrun_backward(  \u001b[39m# Calls into the C++ engine to run the backward pass\u001b[39;49;00m\n\u001b[1;32m    198\u001b[0m     tensors, grad_tensors_, retain_graph, create_graph, inputs,\n\u001b[1;32m    199\u001b[0m     allow_unreachable\u001b[39m=\u001b[39;49m\u001b[39mTrue\u001b[39;49;00m, accumulate_grad\u001b[39m=\u001b[39;49m\u001b[39mTrue\u001b[39;49;00m)\n",
      "File \u001b[0;32m/opt/anaconda3/envs/IBMQ/lib/python3.10/site-packages/torch/autograd/function.py:267\u001b[0m, in \u001b[0;36mBackwardCFunction.apply\u001b[0;34m(self, *args)\u001b[0m\n\u001b[1;32m    263\u001b[0m     \u001b[39mraise\u001b[39;00m \u001b[39mRuntimeError\u001b[39;00m(\u001b[39m\"\u001b[39m\u001b[39mImplementing both \u001b[39m\u001b[39m'\u001b[39m\u001b[39mbackward\u001b[39m\u001b[39m'\u001b[39m\u001b[39m and \u001b[39m\u001b[39m'\u001b[39m\u001b[39mvjp\u001b[39m\u001b[39m'\u001b[39m\u001b[39m for a custom \u001b[39m\u001b[39m\"\u001b[39m\n\u001b[1;32m    264\u001b[0m                        \u001b[39m\"\u001b[39m\u001b[39mFunction is not allowed. You should only implement one \u001b[39m\u001b[39m\"\u001b[39m\n\u001b[1;32m    265\u001b[0m                        \u001b[39m\"\u001b[39m\u001b[39mof them.\u001b[39m\u001b[39m\"\u001b[39m)\n\u001b[1;32m    266\u001b[0m user_fn \u001b[39m=\u001b[39m vjp_fn \u001b[39mif\u001b[39;00m vjp_fn \u001b[39mis\u001b[39;00m \u001b[39mnot\u001b[39;00m Function\u001b[39m.\u001b[39mvjp \u001b[39melse\u001b[39;00m backward_fn\n\u001b[0;32m--> 267\u001b[0m \u001b[39mreturn\u001b[39;00m user_fn(\u001b[39mself\u001b[39;49m, \u001b[39m*\u001b[39;49margs)\n",
      "\u001b[1;32m/Users/jerry1203/Desktop/CommLab_2022Final/multi-classifier_10_qubit_output_layer.ipynb Cell 20\u001b[0m in \u001b[0;36mHybridFunction.backward\u001b[0;34m(ctx, grad_output)\u001b[0m\n\u001b[1;32m     <a href='vscode-notebook-cell:/Users/jerry1203/Desktop/CommLab_2022Final/multi-classifier_10_qubit_output_layer.ipynb#X31sZmlsZQ%3D%3D?line=35'>36</a>\u001b[0m \u001b[39mfor\u001b[39;00m i \u001b[39min\u001b[39;00m \u001b[39mrange\u001b[39m(\u001b[39mlen\u001b[39m(input_list)):\n\u001b[1;32m     <a href='vscode-notebook-cell:/Users/jerry1203/Desktop/CommLab_2022Final/multi-classifier_10_qubit_output_layer.ipynb#X31sZmlsZQ%3D%3D?line=36'>37</a>\u001b[0m     expectation_right \u001b[39m=\u001b[39m ctx\u001b[39m.\u001b[39mquantum_circuit\u001b[39m.\u001b[39mrun(shift_right[i])\n\u001b[0;32m---> <a href='vscode-notebook-cell:/Users/jerry1203/Desktop/CommLab_2022Final/multi-classifier_10_qubit_output_layer.ipynb#X31sZmlsZQ%3D%3D?line=37'>38</a>\u001b[0m     expectation_left  \u001b[39m=\u001b[39m ctx\u001b[39m.\u001b[39;49mquantum_circuit\u001b[39m.\u001b[39;49mrun(shift_left[i])\n\u001b[1;32m     <a href='vscode-notebook-cell:/Users/jerry1203/Desktop/CommLab_2022Final/multi-classifier_10_qubit_output_layer.ipynb#X31sZmlsZQ%3D%3D?line=39'>40</a>\u001b[0m     gradient \u001b[39m=\u001b[39m \u001b[39m0.5\u001b[39m \u001b[39m*\u001b[39m (torch\u001b[39m.\u001b[39mtensor([expectation_right]) \u001b[39m-\u001b[39m torch\u001b[39m.\u001b[39mtensor([expectation_left]))\n\u001b[1;32m     <a href='vscode-notebook-cell:/Users/jerry1203/Desktop/CommLab_2022Final/multi-classifier_10_qubit_output_layer.ipynb#X31sZmlsZQ%3D%3D?line=40'>41</a>\u001b[0m     \u001b[39m#print('gradient = ', gradient)\u001b[39;00m\n",
      "\u001b[1;32m/Users/jerry1203/Desktop/CommLab_2022Final/multi-classifier_10_qubit_output_layer.ipynb Cell 20\u001b[0m in \u001b[0;36mQuantumCircuit.run\u001b[0;34m(self, thetas)\u001b[0m\n\u001b[1;32m     <a href='vscode-notebook-cell:/Users/jerry1203/Desktop/CommLab_2022Final/multi-classifier_10_qubit_output_layer.ipynb#X31sZmlsZQ%3D%3D?line=32'>33</a>\u001b[0m \u001b[39mfor\u001b[39;00m i \u001b[39min\u001b[39;00m \u001b[39mrange\u001b[39m(\u001b[39mlen\u001b[39m(\u001b[39mself\u001b[39m\u001b[39m.\u001b[39mtheta)):\n\u001b[1;32m     <a href='vscode-notebook-cell:/Users/jerry1203/Desktop/CommLab_2022Final/multi-classifier_10_qubit_output_layer.ipynb#X31sZmlsZQ%3D%3D?line=33'>34</a>\u001b[0m     dict_for_use[\u001b[39mself\u001b[39m\u001b[39m.\u001b[39mtheta[i]] \u001b[39m=\u001b[39m thetas[i]\n\u001b[0;32m---> <a href='vscode-notebook-cell:/Users/jerry1203/Desktop/CommLab_2022Final/multi-classifier_10_qubit_output_layer.ipynb#X31sZmlsZQ%3D%3D?line=34'>35</a>\u001b[0m qobj \u001b[39m=\u001b[39m assemble(t_qc,\n\u001b[1;32m     <a href='vscode-notebook-cell:/Users/jerry1203/Desktop/CommLab_2022Final/multi-classifier_10_qubit_output_layer.ipynb#X31sZmlsZQ%3D%3D?line=35'>36</a>\u001b[0m                 shots\u001b[39m=\u001b[39;49m\u001b[39mself\u001b[39;49m\u001b[39m.\u001b[39;49mshots,\n\u001b[1;32m     <a href='vscode-notebook-cell:/Users/jerry1203/Desktop/CommLab_2022Final/multi-classifier_10_qubit_output_layer.ipynb#X31sZmlsZQ%3D%3D?line=36'>37</a>\u001b[0m                 parameter_binds \u001b[39m=\u001b[39;49m [dict_for_use])\n\u001b[1;32m     <a href='vscode-notebook-cell:/Users/jerry1203/Desktop/CommLab_2022Final/multi-classifier_10_qubit_output_layer.ipynb#X31sZmlsZQ%3D%3D?line=38'>39</a>\u001b[0m job \u001b[39m=\u001b[39m \u001b[39mself\u001b[39m\u001b[39m.\u001b[39mbackend\u001b[39m.\u001b[39mrun(qobj)\n\u001b[1;32m     <a href='vscode-notebook-cell:/Users/jerry1203/Desktop/CommLab_2022Final/multi-classifier_10_qubit_output_layer.ipynb#X31sZmlsZQ%3D%3D?line=39'>40</a>\u001b[0m result \u001b[39m=\u001b[39m job\u001b[39m.\u001b[39mresult()\u001b[39m.\u001b[39mget_counts()\n",
      "File \u001b[0;32m/opt/anaconda3/envs/IBMQ/lib/python3.10/site-packages/qiskit/compiler/assembler.py:203\u001b[0m, in \u001b[0;36massemble\u001b[0;34m(experiments, backend, qobj_id, qobj_header, shots, memory, max_credits, seed_simulator, qubit_lo_freq, meas_lo_freq, qubit_lo_range, meas_lo_range, schedule_los, meas_level, meas_return, meas_map, memory_slot_size, rep_time, rep_delay, parameter_binds, parametric_pulses, init_qubits, **run_config)\u001b[0m\n\u001b[1;32m    193\u001b[0m run_config \u001b[39m=\u001b[39m _parse_circuit_args(\n\u001b[1;32m    194\u001b[0m     parameter_binds,\n\u001b[1;32m    195\u001b[0m     backend,\n\u001b[0;32m   (...)\u001b[0m\n\u001b[1;32m    199\u001b[0m     \u001b[39m*\u001b[39m\u001b[39m*\u001b[39mrun_config_common_dict,\n\u001b[1;32m    200\u001b[0m )\n\u001b[1;32m    202\u001b[0m \u001b[39m# If circuits are parameterized, bind parameters and remove from run_config\u001b[39;00m\n\u001b[0;32m--> 203\u001b[0m bound_experiments, run_config \u001b[39m=\u001b[39m _expand_parameters(\n\u001b[1;32m    204\u001b[0m     circuits\u001b[39m=\u001b[39;49mexperiments, run_config\u001b[39m=\u001b[39;49mrun_config\n\u001b[1;32m    205\u001b[0m )\n\u001b[1;32m    206\u001b[0m end_time \u001b[39m=\u001b[39m time()\n\u001b[1;32m    207\u001b[0m _log_assembly_time(start_time, end_time)\n",
      "File \u001b[0;32m/opt/anaconda3/envs/IBMQ/lib/python3.10/site-packages/qiskit/compiler/assembler.py:580\u001b[0m, in \u001b[0;36m_expand_parameters\u001b[0;34m(circuits, run_config)\u001b[0m\n\u001b[1;32m    573\u001b[0m \u001b[39mif\u001b[39;00m parameter_binds \u001b[39mand\u001b[39;00m \u001b[39many\u001b[39m(parameter_binds) \u001b[39mor\u001b[39;00m \u001b[39many\u001b[39m(circuit\u001b[39m.\u001b[39mparameters \u001b[39mfor\u001b[39;00m circuit \u001b[39min\u001b[39;00m circuits):\n\u001b[1;32m    574\u001b[0m \n\u001b[1;32m    575\u001b[0m     \u001b[39m# Unroll params here in order to handle ParamVects\u001b[39;00m\n\u001b[1;32m    576\u001b[0m     all_bind_parameters \u001b[39m=\u001b[39m [\n\u001b[1;32m    577\u001b[0m         QuantumCircuit()\u001b[39m.\u001b[39m_unroll_param_dict(bind)\u001b[39m.\u001b[39mkeys() \u001b[39mfor\u001b[39;00m bind \u001b[39min\u001b[39;00m parameter_binds\n\u001b[1;32m    578\u001b[0m     ]\n\u001b[0;32m--> 580\u001b[0m     all_circuit_parameters \u001b[39m=\u001b[39m [circuit\u001b[39m.\u001b[39mparameters \u001b[39mfor\u001b[39;00m circuit \u001b[39min\u001b[39;00m circuits]\n\u001b[1;32m    582\u001b[0m     \u001b[39m# Collect set of all unique parameters across all circuits and binds\u001b[39;00m\n\u001b[1;32m    583\u001b[0m     unique_parameters \u001b[39m=\u001b[39m {\n\u001b[1;32m    584\u001b[0m         param\n\u001b[1;32m    585\u001b[0m         \u001b[39mfor\u001b[39;00m param_list \u001b[39min\u001b[39;00m all_bind_parameters \u001b[39m+\u001b[39m all_circuit_parameters\n\u001b[1;32m    586\u001b[0m         \u001b[39mfor\u001b[39;00m param \u001b[39min\u001b[39;00m param_list\n\u001b[1;32m    587\u001b[0m     }\n",
      "File \u001b[0;32m/opt/anaconda3/envs/IBMQ/lib/python3.10/site-packages/qiskit/compiler/assembler.py:580\u001b[0m, in \u001b[0;36m<listcomp>\u001b[0;34m(.0)\u001b[0m\n\u001b[1;32m    573\u001b[0m \u001b[39mif\u001b[39;00m parameter_binds \u001b[39mand\u001b[39;00m \u001b[39many\u001b[39m(parameter_binds) \u001b[39mor\u001b[39;00m \u001b[39many\u001b[39m(circuit\u001b[39m.\u001b[39mparameters \u001b[39mfor\u001b[39;00m circuit \u001b[39min\u001b[39;00m circuits):\n\u001b[1;32m    574\u001b[0m \n\u001b[1;32m    575\u001b[0m     \u001b[39m# Unroll params here in order to handle ParamVects\u001b[39;00m\n\u001b[1;32m    576\u001b[0m     all_bind_parameters \u001b[39m=\u001b[39m [\n\u001b[1;32m    577\u001b[0m         QuantumCircuit()\u001b[39m.\u001b[39m_unroll_param_dict(bind)\u001b[39m.\u001b[39mkeys() \u001b[39mfor\u001b[39;00m bind \u001b[39min\u001b[39;00m parameter_binds\n\u001b[1;32m    578\u001b[0m     ]\n\u001b[0;32m--> 580\u001b[0m     all_circuit_parameters \u001b[39m=\u001b[39m [circuit\u001b[39m.\u001b[39;49mparameters \u001b[39mfor\u001b[39;00m circuit \u001b[39min\u001b[39;00m circuits]\n\u001b[1;32m    582\u001b[0m     \u001b[39m# Collect set of all unique parameters across all circuits and binds\u001b[39;00m\n\u001b[1;32m    583\u001b[0m     unique_parameters \u001b[39m=\u001b[39m {\n\u001b[1;32m    584\u001b[0m         param\n\u001b[1;32m    585\u001b[0m         \u001b[39mfor\u001b[39;00m param_list \u001b[39min\u001b[39;00m all_bind_parameters \u001b[39m+\u001b[39m all_circuit_parameters\n\u001b[1;32m    586\u001b[0m         \u001b[39mfor\u001b[39;00m param \u001b[39min\u001b[39;00m param_list\n\u001b[1;32m    587\u001b[0m     }\n",
      "File \u001b[0;32m/opt/anaconda3/envs/IBMQ/lib/python3.10/site-packages/qiskit/circuit/quantumcircuit.py:2585\u001b[0m, in \u001b[0;36mQuantumCircuit.parameters\u001b[0;34m(self)\u001b[0m\n\u001b[1;32m   2583\u001b[0m \u001b[39m# parameters from gates\u001b[39;00m\n\u001b[1;32m   2584\u001b[0m \u001b[39mif\u001b[39;00m \u001b[39mself\u001b[39m\u001b[39m.\u001b[39m_parameters \u001b[39mis\u001b[39;00m \u001b[39mNone\u001b[39;00m:\n\u001b[0;32m-> 2585\u001b[0m     unsorted \u001b[39m=\u001b[39m \u001b[39mself\u001b[39;49m\u001b[39m.\u001b[39;49m_unsorted_parameters()\n\u001b[1;32m   2586\u001b[0m     \u001b[39mself\u001b[39m\u001b[39m.\u001b[39m_parameters \u001b[39m=\u001b[39m \u001b[39msorted\u001b[39m(unsorted, key\u001b[39m=\u001b[39mfunctools\u001b[39m.\u001b[39mcmp_to_key(_compare_parameters))\n\u001b[1;32m   2588\u001b[0m \u001b[39m# return as parameter view, which implements the set and list interface\u001b[39;00m\n",
      "File \u001b[0;32m/opt/anaconda3/envs/IBMQ/lib/python3.10/site-packages/qiskit/circuit/quantumcircuit.py:2598\u001b[0m, in \u001b[0;36mQuantumCircuit._unsorted_parameters\u001b[0;34m(self)\u001b[0m\n\u001b[1;32m   2596\u001b[0m \u001b[39mdef\u001b[39;00m \u001b[39m_unsorted_parameters\u001b[39m(\u001b[39mself\u001b[39m) \u001b[39m-\u001b[39m\u001b[39m>\u001b[39m Set[Parameter]:\n\u001b[1;32m   2597\u001b[0m     \u001b[39m\"\"\"Efficiently get all parameters in the circuit, without any sorting overhead.\"\"\"\u001b[39;00m\n\u001b[0;32m-> 2598\u001b[0m     parameters \u001b[39m=\u001b[39m \u001b[39mset\u001b[39;49m(\u001b[39mself\u001b[39;49m\u001b[39m.\u001b[39;49m_parameter_table)\n\u001b[1;32m   2599\u001b[0m     \u001b[39mif\u001b[39;00m \u001b[39misinstance\u001b[39m(\u001b[39mself\u001b[39m\u001b[39m.\u001b[39mglobal_phase, ParameterExpression):\n\u001b[1;32m   2600\u001b[0m         parameters\u001b[39m.\u001b[39mupdate(\u001b[39mself\u001b[39m\u001b[39m.\u001b[39mglobal_phase\u001b[39m.\u001b[39mparameters)\n",
      "File \u001b[0;32m/opt/anaconda3/envs/IBMQ/lib/python3.10/site-packages/qiskit/circuit/parameter.py:117\u001b[0m, in \u001b[0;36mParameter.__hash__\u001b[0;34m(self)\u001b[0m\n\u001b[1;32m    114\u001b[0m     \u001b[39melse\u001b[39;00m:\n\u001b[1;32m    115\u001b[0m         \u001b[39mreturn\u001b[39;00m \u001b[39mFalse\u001b[39;00m\n\u001b[0;32m--> 117\u001b[0m \u001b[39mdef\u001b[39;00m \u001b[39m__hash__\u001b[39m(\u001b[39mself\u001b[39m):\n\u001b[1;32m    118\u001b[0m     \u001b[39mreturn\u001b[39;00m \u001b[39mself\u001b[39m\u001b[39m.\u001b[39m_hash\n\u001b[1;32m    120\u001b[0m \u001b[39mdef\u001b[39;00m \u001b[39m__getstate__\u001b[39m(\u001b[39mself\u001b[39m):\n",
      "\u001b[0;31mKeyboardInterrupt\u001b[0m: "
     ]
    }
   ],
   "source": [
    "model = Net()\n",
    "optimizer = optim.Adam(model.parameters(), lr=0.001)\n",
    "loss_func = nn.NLLLoss()\n",
    "#loss_func = nn.CrossEntropyLoss()\n",
    "\n",
    "epochs = 20\n",
    "loss_list = []\n",
    "\n",
    "model.train()\n",
    "for epoch in range(epochs):\n",
    "    total_loss = []\n",
    "    for batch_idx, (data, target) in enumerate(train_loader):\n",
    "        #print(target == 7)\n",
    "        #print(target.numpy()[0] == 7)\n",
    "        '''\n",
    "        if target.numpy()[0] == 7:\n",
    "            target = torch.LongTensor([0])\n",
    "            '''\n",
    "        optimizer.zero_grad()\n",
    "        # Forward pass\n",
    "        #print(data.size())\n",
    "        output = model(data)\n",
    "        # Calculating loss\n",
    "        #print('output = ', output)\n",
    "        #print('target = ', target)\n",
    "        loss = loss_func(output, target)\n",
    "        # Backward pass\n",
    "        loss.backward()\n",
    "        # Optimize the weights\n",
    "        optimizer.step()\n",
    "        \n",
    "        total_loss.append(loss.item())\n",
    "    loss_list.append(sum(total_loss)/len(total_loss))\n",
    "    print('Training [{:.0f}%]\\tLoss: {:.4f}'.format(\n",
    "        100. * (epoch + 1) / epochs, loss_list[-1]))"
   ]
  },
  {
   "cell_type": "code",
   "execution_count": 115,
   "metadata": {
    "scrolled": true
   },
   "outputs": [
    {
     "data": {
      "text/plain": [
       "Text(0, 0.5, 'Neg Log Likelihood Loss')"
      ]
     },
     "execution_count": 115,
     "metadata": {},
     "output_type": "execute_result"
    },
    {
     "data": {
      "image/png": "[encoded data removed]",
      "text/plain": [
       "<Figure size 432x288 with 1 Axes>"
      ]
     },
     "metadata": {
      "needs_background": "light"
     },
     "output_type": "display_data"
    }
   ],
   "source": [
    "plt.plot(loss_list)\n",
    "plt.title('Hybrid NN Training Convergence')\n",
    "plt.xlabel('Training Iterations')\n",
    "plt.ylabel('Neg Log Likelihood Loss')"
   ]
  },
  {
   "cell_type": "code",
   "execution_count": 116,
   "metadata": {
    "scrolled": true
   },
   "outputs": [],
   "source": [
    "# Concentrating on the first 100 samples\n",
    "n_samples = 50\n",
    "\n",
    "X_test = datasets.MNIST(root='./data', train=False, download=True,\n",
    "                         transform=transforms.Compose([transforms.ToTensor()]))\n",
    "\n",
    "# Leaving only labels 0 and 1 \n",
    "idx = np.append(np.where(X_test.targets == 0)[0][:n_samples], \n",
    "                np.where(X_test.targets == 1)[0][:n_samples])\n",
    "\n",
    "for i in range(2, 10):\n",
    "    idx = np.append(idx, np.where(X_test.targets == i)[0][:n_samples])\n",
    "    \n",
    "X_test.data = X_test.data[idx]\n",
    "X_test.targets = X_test.targets[idx]\n",
    "#print(X_test.targets)\n",
    "test_loader = torch.utils.data.DataLoader(X_test, batch_size=1, shuffle=True)"
   ]
  },
  {
   "cell_type": "code",
   "execution_count": 117,
   "metadata": {
    "scrolled": true
   },
   "outputs": [
    {
     "name": "stderr",
     "output_type": "stream",
     "text": [
      "C:\\Users\\user\\Anaconda3\\lib\\site-packages\\ipykernel_launcher.py:25: UserWarning: Implicit dimension choice for softmax has been deprecated. Change the call to include dim=X as an argument.\n"
     ]
    },
    {
     "name": "stdout",
     "output_type": "stream",
     "text": [
      "Performance on test data:\n",
      "\tLoss: -0.2135\n",
      "\tAccuracy: 94.4%\n"
     ]
    }
   ],
   "source": [
    "model.eval()\n",
    "with torch.no_grad():\n",
    "    \n",
    "    correct = 0\n",
    "    for batch_idx, (data, target) in enumerate(test_loader):\n",
    "        output = model(data)\n",
    "        pred = output.argmax(dim=1, keepdim=True)\n",
    "        #print('pred')\n",
    "        #print(pred)\n",
    "        #print('target')\n",
    "        #print(target)\n",
    "        #print(pred.eq(target.view_as(pred)).sum().item())\n",
    "        correct += pred.eq(target.view_as(pred)).sum().item()\n",
    "        #print(output, target)\n",
    "        loss = loss_func(output, target)\n",
    "        total_loss.append(loss.item())\n",
    "        \n",
    "    print('Performance on test data:\\n\\tLoss: {:.4f}\\n\\tAccuracy: {:.1f}%'.format(\n",
    "        sum(total_loss) / len(total_loss),\n",
    "        correct / len(test_loader) * 100)\n",
    "        )"
   ]
  }
 ],
 "metadata": {
  "kernelspec": {
   "display_name": "Python 3.10.4 ('IBMQ')",
   "language": "python",
   "name": "python3"
  },
  "language_info": {
   "codemirror_mode": {
    "name": "ipython",
    "version": 3
   },
   "file_extension": ".py",
   "mimetype": "text/x-python",
   "name": "python",
   "nbconvert_exporter": "python",
   "pygments_lexer": "ipython3",
   "version": "3.10.4"
  },
  "vscode": {
   "interpreter": {
    "hash": "4d4840b60a59fe0c35ad7703cffab0f5101171e21a03959fba8163ad7bec285c"
   }
  }
 },
 "nbformat": 4,
 "nbformat_minor": 5
}
