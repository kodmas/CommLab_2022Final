{
 "cells": [
  {
   "cell_type": "code",
   "execution_count": 1,
   "id": "e6486f31",
   "metadata": {},
   "outputs": [],
   "source": [
    "from qiskit import QuantumCircuit, QuantumRegister"
   ]
  },
  {
   "cell_type": "code",
   "execution_count": 2,
   "id": "92175cb5",
   "metadata": {},
   "outputs": [],
   "source": [
    "def filter_four(phi,theta):\n",
    "    qc = QuantumCircuit(4)\n",
    "    for i in range (4):\n",
    "        qc.ry(theta[i],i)\n",
    "    qc.cry(phi[1],0,1)\n",
    "    qc.cry(phi[2],1,2)\n",
    "    qc.cry(phi[3],2,3)\n",
    "    qc.cry(phi[0],3,0)\n",
    "    return qc"
   ]
  },
  {
   "cell_type": "code",
   "execution_count": 3,
   "id": "294474cf",
   "metadata": {},
   "outputs": [],
   "source": [
    "# the whole structure consisting 3-qubit filter (Figure 2.(b)) is built with this function\n",
    "def filter_three_layer(phi,theta):\n",
    "    qc = QuantumCircuit(8)\n",
    "    for i in range (8):\n",
    "        qc.ry(theta[i%3],i)\n",
    "    qc.cry(phi[1],0,1)\n",
    "    qc.cry(phi[2],1,2)\n",
    "    qc.cry(phi[3],2,3)\n",
    "    qc.cry(phi[0],3,0)\n",
    "\n",
    "    qc.cry(phi[1],4,5)\n",
    "    qc.cry(phi[2],5,6)\n",
    "    qc.cry(phi[3],6,7)\n",
    "    qc.cry(phi[0],7,0)\n",
    "    for i in range (8):\n",
    "        qc.ry(phi[(i+1)%3],i)\n",
    "    qc.cry(phi[1],2,3)\n",
    "    qc.cry(phi[2],3,4)\n",
    "    qc.cry(phi[3],4,5)\n",
    "    qc.cry(phi[0],5,2)\n",
    "\n",
    "    qc.cry(phi[1],6,7)\n",
    "    qc.cry(phi[2],7,0)\n",
    "    qc.cry(phi[3],0,1)\n",
    "    qc.cry(phi[0],1,6)\n",
    "    return qc"
   ]
  },
  {
   "cell_type": "code",
   "execution_count": 4,
   "id": "31d157d8",
   "metadata": {},
   "outputs": [],
   "source": [
    "def filter_two(theta):\n",
    "    qc = QuantumCircuit(2)\n",
    "    qc.ry(theta[0],0)\n",
    "    qc.ry(theta[1],1)\n",
    "    qc.cx(0.1)\n",
    "    qc.ry(theta[2],0)\n",
    "    qc.ry(theta[3],1)\n",
    "    qc.cx(1,0)\n",
    "    return qc"
   ]
  },
  {
   "cell_type": "code",
   "execution_count": 5,
   "id": "b893c470",
   "metadata": {},
   "outputs": [],
   "source": [
    "def pooling(theta):\n",
    "    qc = QuantumCircuit(2)\n",
    "    qc.crz(theta[0],0,1)\n",
    "    qc.x(0)\n",
    "    qc.crxtheta[1],0,1)\n",
    "    qc.x(0)\n",
    "    return qc"
   ]
  },
  {
   "cell_type": "code",
   "execution_count": 6,
   "id": "cf9e86bd",
   "metadata": {},
   "outputs": [],
   "source": [
    "def regular_layer_y(phi,theta,axis):\n",
    "    qc = QuantumCircuit(4)\n",
    "    for i in range (4):\n",
    "        qc.ry(theta[i],i)\n",
    "    qc.cry(phi[1],0,1)\n",
    "    qc.cry(phi[2],1,2)\n",
    "    qc.cry(phi[4],2,3)\n",
    "    qc.cry(phi[0],3,0)\n",
    "\n",
    "    qc.cry(phi[4],1,2)\n",
    "    qc.cry(phi[5],2,3)\n",
    "    qc.cry(phi[6],3,0)\n",
    "    qc.cry(phi[7],0,1)\n",
    "    return qc\n",
    "\n",
    "def regular_layer_x(phi,theta,axis):\n",
    "    qc = QuantumCircuit(4)\n",
    "    for i in range (4):\n",
    "        qc.rx(theta[i],i)\n",
    "    qc.crx(phi[1],0,1)\n",
    "    qc.crx(phi[2],1,2)\n",
    "    qc.crx(phi[4],2,3)\n",
    "    qc.crx(phi[0],3,0)\n",
    "\n",
    "    qc.crx(phi[4],1,2)\n",
    "    qc.crx(phi[5],2,3)\n",
    "    qc.crx(phi[6],3,0)\n",
    "    qc.crx(phi[7],0,1)\n",
    "    return qc\n",
    "\n",
    "def regular_layer_z(phi,theta,axis):\n",
    "    qc = QuantumCircuit(4)\n",
    "    for i in range (4):\n",
    "        qc.rz(theta[i],i)\n",
    "    qc.crz(phi[1],0,1)\n",
    "    qc.crz(phi[2],1,2)\n",
    "    qc.crz(phi[4],2,3)\n",
    "    qc.crz(phi[0],3,0)\n",
    "\n",
    "    qc.crz(phi[4],1,2)\n",
    "    qc.crz(phi[5],2,3)\n",
    "    qc.crz(phi[6],3,0)\n",
    "    qc.crz(phi[7],0,1)\n",
    "    return qc"
   ]
  },
  {
   "cell_type": "code",
   "execution_count": null,
   "id": "b55a8dbf",
   "metadata": {},
   "outputs": [],
   "source": []
  }
 ],
 "metadata": {
  "kernelspec": {
   "display_name": "Python 3 (ipykernel)",
   "language": "python",
   "name": "python3"
  },
  "language_info": {
   "codemirror_mode": {
    "name": "ipython",
    "version": 3
   },
   "file_extension": ".py",
   "mimetype": "text/x-python",
   "name": "python",
   "nbconvert_exporter": "python",
   "pygments_lexer": "ipython3",
   "version": "3.10.4"
  }
 },
 "nbformat": 4,
 "nbformat_minor": 5
}
