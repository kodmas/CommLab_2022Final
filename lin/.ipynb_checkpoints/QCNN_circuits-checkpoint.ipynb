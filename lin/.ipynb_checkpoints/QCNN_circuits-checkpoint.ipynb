{
 "cells": [
  {
   "cell_type": "code",
   "execution_count": 1,
   "id": "e6486f31",
   "metadata": {},
   "outputs": [
    {
     "ename": "ModuleNotFoundError",
     "evalue": "No module named 'qiskit'",
     "output_type": "error",
     "traceback": [
      "\u001b[1;31m---------------------------------------------------------------------------\u001b[0m",
      "\u001b[1;31mModuleNotFoundError\u001b[0m                       Traceback (most recent call last)",
      "Input \u001b[1;32mIn [1]\u001b[0m, in \u001b[0;36m<cell line: 1>\u001b[1;34m()\u001b[0m\n\u001b[1;32m----> 1\u001b[0m \u001b[38;5;28;01mfrom\u001b[39;00m \u001b[38;5;21;01mqiskit\u001b[39;00m \u001b[38;5;28;01mimport\u001b[39;00m QuantumCircuit, QuantumRegister\n",
      "\u001b[1;31mModuleNotFoundError\u001b[0m: No module named 'qiskit'"
     ]
    }
   ],
   "source": [
    "from qiskit import QuantumCircuit, QuantumRegister"
   ]
  },
  {
   "cell_type": "code",
   "execution_count": null,
   "id": "92175cb5",
   "metadata": {},
   "outputs": [],
   "source": [
    "def filter_four(phi,theta):\n",
    "    qc = QuantumCircuit(4)\n",
    "    for i in range (4):\n",
    "        qc.ry(theta[i],i)\n",
    "    qc.cry(phi[1],0,1)\n",
    "    qc.cry(phi[2],1,2)\n",
    "    qc.cry(phi[3],2,3)\n",
    "    qc.cry(phi[0],3,0)\n",
    "    return qc"
   ]
  },
  {
   "cell_type": "code",
   "execution_count": null,
   "id": "294474cf",
   "metadata": {},
   "outputs": [],
   "source": [
    "# the whole structure consisting 3-qubit filter (Figure 2.(b)) is built with this function\n",
    "def filter_three_layer(phi,theta):\n",
    "    qc = QuantumCircuit(8)\n",
    "    for i in range (8):\n",
    "        qc.ry(theta[i%3],i)\n",
    "    qc.cry(phi[1],0,1)\n",
    "    qc.cry(phi[2],1,2)\n",
    "    qc.cry(phi[3],2,3)\n",
    "    qc.cry(phi[0],3,0)\n",
    "\n",
    "    qc.cry(phi[1],4,5)\n",
    "    qc.cry(phi[2],5,6)\n",
    "    qc.cry(phi[3],6,7)\n",
    "    qc.cry(phi[0],7,0)\n",
    "    for i in range (8):\n",
    "        qc.ry(phi[(i+1)%3],i)\n",
    "    qc.cry(phi[1],2,3)\n",
    "    qc.cry(phi[2],3,4)\n",
    "    qc.cry(phi[3],4,5)\n",
    "    qc.cry(phi[0],5,2)\n",
    "\n",
    "    qc.cry(phi[1],6,7)\n",
    "    qc.cry(phi[2],7,0)\n",
    "    qc.cry(phi[3],0,1)\n",
    "    qc.cry(phi[0],1,6)\n",
    "    return qc"
   ]
  },
  {
   "cell_type": "code",
   "execution_count": null,
   "id": "31d157d8",
   "metadata": {},
   "outputs": [],
   "source": [
    "def filter_two(theta):\n",
    "    qc = QuantumCircuit(2)\n",
    "    qc.ry(theta[0],0)\n",
    "    qc.ry(theta[1],1)\n",
    "    qc.cx(0.1)\n",
    "    qc.ry(theta[2],0)\n",
    "    qc.ry(theta[3],1)\n",
    "    qc.cx(1,0)\n",
    "    return qc"
   ]
  },
  {
   "cell_type": "code",
   "execution_count": null,
   "id": "b893c470",
   "metadata": {},
   "outputs": [],
   "source": [
    "def pooling(theta):\n",
    "    qc = QuantumCircuit(2)\n",
    "    qc.crz(theta[0],0,1)\n",
    "    qc.x(0)\n",
    "    qc.crxtheta[1],0,1)\n",
    "    qc.x(0)\n",
    "    return qc"
   ]
  },
  {
   "cell_type": "code",
   "execution_count": null,
   "id": "cf9e86bd",
   "metadata": {},
   "outputs": [],
   "source": [
    "def regular_layer_y(phi,theta):\n",
    "    qc = QuantumCircuit(4)\n",
    "    for i in range (4):\n",
    "        qc.ry(theta[i],i)\n",
    "    qc.cry(phi[1],0,1)\n",
    "    qc.cry(phi[2],1,2)\n",
    "    qc.cry(phi[4],2,3)\n",
    "    qc.cry(phi[0],3,0)\n",
    "\n",
    "    qc.cry(phi[4],1,2)\n",
    "    qc.cry(phi[5],2,3)\n",
    "    qc.cry(phi[6],3,0)\n",
    "    qc.cry(phi[7],0,1)\n",
    "    return qc\n",
    "\n",
    "def regular_layer_x(phi,theta):\n",
    "    qc = QuantumCircuit(4)\n",
    "    for i in range (4):\n",
    "        qc.rx(theta[i],i)\n",
    "    qc.crx(phi[1],0,1)\n",
    "    qc.crx(phi[2],1,2)\n",
    "    qc.crx(phi[4],2,3)\n",
    "    qc.crx(phi[0],3,0)\n",
    "\n",
    "    qc.crx(phi[4],1,2)\n",
    "    qc.crx(phi[5],2,3)\n",
    "    qc.crx(phi[6],3,0)\n",
    "    qc.crx(phi[7],0,1)\n",
    "    return qc\n",
    "\n",
    "def regular_layer_z(phi,theta):\n",
    "    qc = QuantumCircuit(4)\n",
    "    for i in range (4):\n",
    "        qc.rz(theta[i],i)\n",
    "    qc.crz(phi[1],0,1)\n",
    "    qc.crz(phi[2],1,2)\n",
    "    qc.crz(phi[4],2,3)\n",
    "    qc.crz(phi[0],3,0)\n",
    "\n",
    "    qc.crz(phi[4],1,2)\n",
    "    qc.crz(phi[5],2,3)\n",
    "    qc.crz(phi[6],3,0)\n",
    "    qc.crz(phi[7],0,1)\n",
    "    return qc"
   ]
  },
  {
   "cell_type": "code",
   "execution_count": null,
   "id": "b55a8dbf",
   "metadata": {},
   "outputs": [],
   "source": [
    "pre_scan = QuantumCircuit(14,4)\n",
    "ff = filter_four(phi,theta)\n",
    "ftw = filter_two(theta)\n",
    "fth = filter_three_layer(phi,theta)\n",
    "pre_scan = pre_scan.compose(ff,[1,2,3,4])\n",
    "pre_scan = pre_scan.compose(ff,[5,6,7,8])\n",
    "pre_scan = pre_scan.compose(ft,[1,2])\n",
    "pre_scan = pre_scan.compose(ff,[3,4,5,6])\n",
    "pre_scan = pre_scan.compose(ft,[7,8])\n",
    "pre_scan = pre_scan.compose(fth[1,2,3,4,5,6,7,8])\n",
    "pre_scan = pre_scan.compose(ft,[1,2])\n",
    "pre_scan = pre_scan.compose(ft,[3,4])\n",
    "pre_scan = pre_scan.compose(ft,[5,6])\n",
    "pre_scan = pre_scan.compose(ft,[7,8])\n",
    "pre_scan = pre_scan.compose(ft,[0,1])\n",
    "pre_scan = pre_scan.compose(ft,[2,3])\n",
    "pre_scan = pre_scan.compose(ft,[4,5])\n",
    "pre_scan = pre_scan.compose(ft,[6,7])\n",
    "pre_scan = pre_scan.compose(ft,[8,9])"
   ]
  },
  {
   "cell_type": "code",
   "execution_count": 2,
   "id": "45b19e0b",
   "metadata": {},
   "outputs": [
    {
     "ename": "NameError",
     "evalue": "name 'QuantumCircuit' is not defined",
     "output_type": "error",
     "traceback": [
      "\u001b[1;31m---------------------------------------------------------------------------\u001b[0m",
      "\u001b[1;31mNameError\u001b[0m                                 Traceback (most recent call last)",
      "Input \u001b[1;32mIn [2]\u001b[0m, in \u001b[0;36m<cell line: 1>\u001b[1;34m()\u001b[0m\n\u001b[1;32m----> 1\u001b[0m qcnn_layer \u001b[38;5;241m=\u001b[39m \u001b[43mQuantumCircuit\u001b[49m(\u001b[38;5;241m10\u001b[39m)\n\u001b[0;32m      2\u001b[0m qcnn_layer \u001b[38;5;241m=\u001b[39m qcnn_layer\u001b[38;5;241m.\u001b[39mcompose(ft,[\u001b[38;5;241m1\u001b[39m,\u001b[38;5;241m2\u001b[39m])\n\u001b[0;32m      3\u001b[0m qcnn_layer \u001b[38;5;241m=\u001b[39m qcnn_layer\u001b[38;5;241m.\u001b[39mcompose(ft,[\u001b[38;5;241m3\u001b[39m,\u001b[38;5;241m4\u001b[39m])\n",
      "\u001b[1;31mNameError\u001b[0m: name 'QuantumCircuit' is not defined"
     ]
    }
   ],
   "source": [
    "qcnn_layer = QuantumCircuit(14)\n",
    "qcnn_layer = qcnn_layer.compose(ft,[1,2])\n",
    "qcnn_layer = qcnn_layer.compose(ft,[3,4])\n",
    "qcnn_layer = qcnn_layer.compose(ft,[5,6])\n",
    "qcnn_layer = qcnn_layer.compose(ft,[7,8])\n",
    "qcnn_layer = qcnn_layer.compose(ft,[0,1])\n",
    "qcnn_layer = qcnn_layer.compose(ft,[2,3])\n",
    "qcnn_layer = qcnn_layer.compose(ft,[4,5])\n",
    "qcnn_layer = qcnn_layer.compose(ft,[6,7])\n",
    "qcnn_layer = qcnn_layer.compose(ft,[8,9])\n",
    "pool = pooling(theta)\n",
    "qcnn_layer = qcnn_layer.compose(pool,[1,2])\n",
    "qcnn_layer = qcnn_layer.compose(pool,[3,4])\n",
    "qcnn_layer = qcnn_layer.compose(pool,[5,6])\n",
    "qcnn_layer = qcnn_layer.compose(pool,[7,8])"
   ]
  },
  {
   "cell_type": "code",
   "execution_count": 4,
   "id": "edf72018",
   "metadata": {},
   "outputs": [
    {
     "ename": "NameError",
     "evalue": "name 'regular_layer_y' is not defined",
     "output_type": "error",
     "traceback": [
      "\u001b[1;31m---------------------------------------------------------------------------\u001b[0m",
      "\u001b[1;31mNameError\u001b[0m                                 Traceback (most recent call last)",
      "Input \u001b[1;32mIn [4]\u001b[0m, in \u001b[0;36m<cell line: 1>\u001b[1;34m()\u001b[0m\n\u001b[1;32m----> 1\u001b[0m rly \u001b[38;5;241m=\u001b[39m \u001b[43mregular_layer_y\u001b[49m(phi,theta)\n\u001b[0;32m      2\u001b[0m rlx \u001b[38;5;241m=\u001b[39m regular_layer_x(phi,theta)\n\u001b[0;32m      3\u001b[0m rlz \u001b[38;5;241m=\u001b[39m regular_layer_z(phi,theta)\n",
      "\u001b[1;31mNameError\u001b[0m: name 'regular_layer_y' is not defined"
     ]
    }
   ],
   "source": [
    "rly = regular_layer_y(phi,theta)\n",
    "rlx = regular_layer_x(phi,theta)\n",
    "rlz = regular_layer_z(phi,theta)\n",
    "reg_layer = QuantumCircuit(4)\n",
    "reg_layer = reg_layer.compose(rly)\n",
    "reg_layer = reg_layer.compose(rly)\n",
    "reg_layer = reg_layer.compose(rly)\n",
    "reg_layer = reg_layer.compose(rlx)\n",
    "reg_layer = reg_layer.compose(rlx)\n",
    "reg_layer = reg_layer.compose(rlx)\n",
    "reg_layer = reg_layer.compose(rlz)\n",
    "reg_layer = reg_layer.compose(rlz)\n",
    "reg_layer = reg_layer.compose(rlz)\n",
    "reg_layer = reg_layer.compose(pool,[0,1])\n",
    "reg_layer = reg_layer.compose(pool,[2,3])\n",
    "reg_layer = reg_layer.compose(ftw,[1,3])"
   ]
  },
  {
   "cell_type": "code",
   "execution_count": 5,
   "id": "d1c13c0b",
   "metadata": {},
   "outputs": [
    {
     "ename": "NameError",
     "evalue": "name 'QuantumCircuit' is not defined",
     "output_type": "error",
     "traceback": [
      "\u001b[1;31m---------------------------------------------------------------------------\u001b[0m",
      "\u001b[1;31mNameError\u001b[0m                                 Traceback (most recent call last)",
      "Input \u001b[1;32mIn [5]\u001b[0m, in \u001b[0;36m<cell line: 1>\u001b[1;34m()\u001b[0m\n\u001b[1;32m----> 1\u001b[0m tof_cr \u001b[38;5;241m=\u001b[39m \u001b[43mQuantumCircuit\u001b[49m(\u001b[38;5;241m6\u001b[39m)\n\u001b[0;32m      2\u001b[0m tof_cr\u001b[38;5;241m.\u001b[39mccx(\u001b[38;5;241m0\u001b[39m,\u001b[38;5;241m1\u001b[39m,\u001b[38;5;241m2\u001b[39m)\n\u001b[0;32m      3\u001b[0m tof_cr\u001b[38;5;241m.\u001b[39mx(\u001b[38;5;241m0\u001b[39m)\n",
      "\u001b[1;31mNameError\u001b[0m: name 'QuantumCircuit' is not defined"
     ]
    }
   ],
   "source": [
    "tof_cr = QuantumCircuit(6)\n",
    "tof_cr.ccx(0,1,2)\n",
    "tof_cr.x(0)\n",
    "tof_cr.ccx(0,1,3)\n",
    "tof_cr.x([0,1])\n",
    "tof_cr.ccx(0,1,4)\n",
    "tof_cr.x(0)\n",
    "tof_cr.ccx(0,1,5)"
   ]
  },
  {
   "cell_type": "code",
   "execution_count": null,
   "id": "a454de2e",
   "metadata": {},
   "outputs": [],
   "source": [
    "#qc:whole structure\n",
    "qc = pre_scan + qcnn_layer\n",
    "qc = qc.compose(reg_layer,[2,4,6,8])\n",
    "qc = qc.compose(tof_cr[4,8,10,11,12,13])\n",
    "\n",
    "qc.measure([10,11,12,13],[0,1,2,3])"
   ]
  }
 ],
 "metadata": {
  "kernelspec": {
   "display_name": "Python 3 (ipykernel)",
   "language": "python",
   "name": "python3"
  },
  "language_info": {
   "codemirror_mode": {
    "name": "ipython",
    "version": 3
   },
   "file_extension": ".py",
   "mimetype": "text/x-python",
   "name": "python",
   "nbconvert_exporter": "python",
   "pygments_lexer": "ipython3",
   "version": "3.9.12"
  }
 },
 "nbformat": 4,
 "nbformat_minor": 5
}
