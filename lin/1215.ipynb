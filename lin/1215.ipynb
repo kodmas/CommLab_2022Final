{
 "cells": [
  {
   "cell_type": "code",
   "execution_count": null,
   "metadata": {},
   "outputs": [],
   "source": [
    "qcnn_layer = qcnn_layer.compose(ft,[1,2])\n",
    "qcnn_layer = qcnn_layer.compose(ft,[3,4])\n",
    "qcnn_layer = qcnn_layer.compose(ft,[5,6])\n",
    "qcnn_layer = qcnn_layer.compose(ft,[7,8])\n",
    "qcnn_layer = qcnn_layer.compose(ft,[0,1])\n",
    "qcnn_layer = qcnn_layer.compose(ft,[2,3])\n",
    "qcnn_layer = qcnn_layer.compose(ft,[4,5])\n",
    "qcnn_layer = qcnn_layer.compose(ft,[6,7])\n",
    "qcnn_layer = qcnn_layer.compose(ft,[8,9])"
   ]
  }
 ],
 "metadata": {
  "language_info": {
   "name": "python"
  },
  "orig_nbformat": 4
 },
 "nbformat": 4,
 "nbformat_minor": 2
}
